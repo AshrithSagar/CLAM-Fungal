{
 "cells": [
  {
   "cell_type": "code",
   "execution_count": 392,
   "id": "8ca21f1f",
   "metadata": {},
   "outputs": [],
   "source": [
    "import math\n",
    "import os\n",
    "from random import Random"
   ]
  },
  {
   "cell_type": "code",
   "execution_count": 393,
   "id": "91a19ec0",
   "metadata": {},
   "outputs": [],
   "source": [
    "seed = 10\n",
    "patch_dir = \"image_sets/patches/\"\n",
    "\n",
    "# [train, test, val]\n",
    "split_ratios = [0.76, 0.12, 0.12]"
   ]
  },
  {
   "cell_type": "code",
   "execution_count": 395,
   "id": "31c13db9",
   "metadata": {},
   "outputs": [
    {
     "name": "stdout",
     "output_type": "stream",
     "text": [
      "140 107 17 16\n"
     ]
    }
   ],
   "source": [
    "patches_list = sorted(os.listdir(patch_dir))\n",
    "# print(patches_list)\n",
    "Random(seed).shuffle(patches_list)\n",
    "# print(patches_list)\n",
    "\n",
    "patches_list_length = len(patches_list)\n",
    "train_length = math.ceil(split_ratios[0] * patches_list_length)\n",
    "test_length = math.ceil(split_ratios[1] * patches_list_length)\n",
    "val_length = patches_list_length - train_length - test_length\n",
    "\n",
    "# train = patches_list[:]\n",
    "print(patches_list_length, train_length, test_length, val_length)"
   ]
  },
  {
   "cell_type": "code",
   "execution_count": null,
   "id": "a64bd274",
   "metadata": {},
   "outputs": [],
   "source": []
  }
 ],
 "metadata": {
  "kernelspec": {
   "display_name": "clam",
   "language": "python",
   "name": "clam"
  },
  "language_info": {
   "codemirror_mode": {
    "name": "ipython",
    "version": 3
   },
   "file_extension": ".py",
   "mimetype": "text/x-python",
   "name": "python",
   "nbconvert_exporter": "python",
   "pygments_lexer": "ipython3",
   "version": "3.7.7"
  }
 },
 "nbformat": 4,
 "nbformat_minor": 5
}
