{
 "cells": [
  {
   "cell_type": "markdown",
   "id": "8a3d7a00",
   "metadata": {},
   "source": [
    "# Heatmaps creator\n",
    "Save in .pkl format\n",
    "draw_heatmaps: Using cv2 weighted overlay"
   ]
  },
  {
   "cell_type": "code",
   "execution_count": 1,
   "id": "4743c7f2",
   "metadata": {},
   "outputs": [
    {
     "name": "stdout",
     "output_type": "stream",
     "text": [
      "['/home/keerthanaprasad/RajithaKV/ROI_Detection/CLAM_model/CLAM_1/notebooks', '/home/keerthanaprasad/anaconda3/envs/clam/lib/python37.zip', '/home/keerthanaprasad/anaconda3/envs/clam/lib/python3.7', '/home/keerthanaprasad/anaconda3/envs/clam/lib/python3.7/lib-dynload', '', '/home/keerthanaprasad/anaconda3/envs/clam/lib/python3.7/site-packages', '/home/keerthanaprasad/anaconda3/envs/clam/lib/python3.7/site-packages/topk-1.0-py3.7.egg', '/home/keerthanaprasad/anaconda3/envs/clam/lib/python3.7/site-packages/IPython/extensions', '/home/keerthanaprasad/.ipython', '..']\n"
     ]
    }
   ],
   "source": [
    "import os\n",
    "import sys\n",
    "\n",
    "base_dir = \"..\"\n",
    "if not base_dir in sys.path:\n",
    "    sys.path.append(base_dir)\n",
    "\n",
    "%load_ext autoreload\n",
    "%autoreload 2\n",
    "\n",
    "print(sys.path)"
   ]
  },
  {
   "cell_type": "code",
   "execution_count": 2,
   "id": "b2468208",
   "metadata": {},
   "outputs": [],
   "source": [
    "from PIL import Image\n",
    "import torch\n",
    "import os\n",
    "import shutil\n",
    "import yaml\n",
    "import argparse\n",
    "import numpy as np\n",
    "import pickle\n",
    "from itertools import product\n",
    "from modules.utils import *\n",
    "from modules.file_utils import save_pkl, load_pkl\n",
    "from modules.resnet_custom import resnet50_baseline\n",
    "from modules.model_clam import CLAM_MB, CLAM_SB\n",
    "from torch.utils.data import DataLoader\n",
    "from scipy.stats import percentileofscore\n",
    "import torch.nn.functional as F\n",
    "import matplotlib.pyplot as plt\n",
    "from skimage.color import label2rgb\n",
    "import cv2 as cv\n",
    "import pandas as pd\n",
    "from sklearn.metrics import accuracy_score, f1_score"
   ]
  },
  {
   "cell_type": "markdown",
   "id": "41efd85c",
   "metadata": {},
   "source": [
    "## Config"
   ]
  },
  {
   "cell_type": "code",
   "execution_count": 3,
   "id": "8132cb77",
   "metadata": {},
   "outputs": [],
   "source": [
    "drop_out = False\n",
    "n_classes = 2\n",
    "splits = [0, 1, 2, 3, 4]\n",
    "model_type = \"clam_sb\" \n",
    "model_size = \"small\"\n",
    "exp_codes = [\n",
    "    \"exp_131_s1\"\n",
    "]\n",
    "results_dir = \"../experiments/results/\" #_saved/results_8/\n",
    "\n",
    "data_dir = \"../experiments/annotations/original/\"\n",
    "image_ext = \".tif\"\n",
    "patch_dir = '../experiments/patches/'\n",
    "feat_dir = \"../experiments/features/\"\n",
    "split_dir = \"../experiments/splits/fungal_vs_nonfungal_100_af_98\"\n",
    "annot_dir = \"../experiments/annotations/patches/tile_annotations_overlap/\"\n",
    "\n",
    "select_image = [\n",
    "    \"F006a02\",\n",
    "    \"F007a02\",\n",
    "]\n",
    "run_heatmap_dict = False\n",
    "run_draw_heatmaps = True\n",
    "delete_previous = False\n",
    "only_test_split = True\n",
    "use_overlap = True\n",
    "overlap = 0.5\n",
    "show_labels = False\n",
    "get_patch_acc = True\n",
    "\n",
    "### Draw heatmaps config\n",
    "patch_size = (256, 256)\n",
    "blur = (128, 128)\n",
    "alpha = 1\n",
    "beta = 0.0\n",
    "gamma = 0.0\n",
    "cmap = 'coolwarm'\n",
    "threshold = 0.5"
   ]
  },
  {
   "cell_type": "markdown",
   "id": "b98aa91e",
   "metadata": {},
   "source": [
    "## Heatmaps"
   ]
  },
  {
   "cell_type": "code",
   "execution_count": 4,
   "id": "3dae14cc",
   "metadata": {},
   "outputs": [],
   "source": [
    "def score2percentile(score, ref):\n",
    "    percentile = percentileofscore(ref, score)\n",
    "    return percentile"
   ]
  },
  {
   "cell_type": "code",
   "execution_count": 5,
   "id": "4edb6732",
   "metadata": {},
   "outputs": [],
   "source": [
    "def compute_from_patches(clam_pred=None, model=None, feature_extractor=None, batch_size=512,\n",
    "    attn_save_path=None, ref_scores=None, feat_save_path=None):\n",
    "\n",
    "    heatmap_dict = []\n",
    "\n",
    "    # Load the dataset\n",
    "    # Create dataset from the image patches\n",
    "    for index, folder in enumerate(sorted(os.listdir(patch_dir))):\n",
    "        # if index not in select_image:\n",
    "        #     continue\n",
    "\n",
    "        filename = str(folder).split(\"/\")[-1]\n",
    "        if filename == \"fungal_vs_nonfungal_resnet_features\":\n",
    "            continue\n",
    "\n",
    "        if filename not in select_image:\n",
    "            continue\n",
    "\n",
    "        patch_folder = os.path.join(patch_dir, folder)\n",
    "        dataset = []\n",
    "        for patch_file in sorted(os.listdir(patch_folder)):\n",
    "            if patch_file == \"pt_files\":\n",
    "                continue\n",
    "\n",
    "            img_path = os.path.join(patch_folder, patch_file)\n",
    "\n",
    "            img = Image.open(img_path)\n",
    "\n",
    "            img_arr = np.asarray(img)\n",
    "            # img_arr = np.expand_dims(img_arr, 0)\n",
    "            # img_PIL = Image.fromarray(img_arr)\n",
    "\n",
    "            # Create the dataset loader\n",
    "            imgs = torch.tensor(img_arr)\n",
    "\n",
    "            # Get coord in [x, y] format\n",
    "            coord = img_path.split(\"/\")\n",
    "            coord = coord[-1]\n",
    "            coord = coord.split(\".\")[-2]\n",
    "            coord = coord.split(\"_\")\n",
    "            coord = [int(coord[-2]), int(coord[-1])]\n",
    "\n",
    "            dataset.append([imgs, coord])\n",
    "\n",
    "        roi_loader = DataLoader(dataset=dataset, batch_size=24)\n",
    "        print(\"File:\", filename)\n",
    "\n",
    "        num_batches = len(roi_loader)\n",
    "        print('number of batches: ', len(roi_loader)) # len(roi_loader) = 24 / (batch_size)\n",
    "        mode = \"w\"\n",
    "\n",
    "        attention_scores = []\n",
    "        coords_list = []\n",
    "\n",
    "        for idx, (roi, coords) in enumerate(roi_loader):\n",
    "            roi = roi.to(device)\n",
    "\n",
    "            with torch.no_grad():\n",
    "                roi = roi.reshape([24, 3, 256, 256])\n",
    "                roi = roi.float()\n",
    "                features = feature_extractor(roi)\n",
    "\n",
    "                if attn_save_path is not None:\n",
    "                    A = model(features, attention_only=True)\n",
    "                    A = F.softmax(A, dim=1)  # softmax over N\n",
    "\n",
    "                    if A.size(0) > 1: #CLAM multi-branch attention\n",
    "                        if clam_pred:\n",
    "                            A = A[clam_pred]\n",
    "\n",
    "                    A = A.view(-1, 1).cpu().numpy()\n",
    "\n",
    "                    if ref_scores is not None:\n",
    "                        for score_idx in range(len(A)):\n",
    "                            A[score_idx] = score2percentile(A[score_idx], ref_scores)\n",
    "\n",
    "                    # Save\n",
    "                    attention_scores.append(A)\n",
    "                    coords_list.append(coords)\n",
    "\n",
    "    #             if idx % math.ceil(num_batches * 0.05) == 0:\n",
    "    #                 print('procssed {} / {}'.format(idx, num_batches))\n",
    "\n",
    "            if feat_save_path is not None:\n",
    "                asset_dict = {'features': features.cpu().numpy(), 'coords': coords}\n",
    "                # Save # TBD. Not required\n",
    "\n",
    "            heatmap_dict.append({\"filename\": filename, \"attention_scores\": attention_scores, \"coords_list\": coords_list})\n",
    "\n",
    "            mode = \"a\"\n",
    "    return heatmap_dict\n",
    "\n",
    "\n",
    "def compute_from_patches_overlap(clam_pred=None, model=None, feature_extractor=None, batch_size=512,\n",
    "    attn_save_path=None, ref_scores=None, feat_save_path=None, test_split=None):\n",
    "\n",
    "    heatmap_dict = []\n",
    "\n",
    "    if only_test_split:\n",
    "        select_image = test_split\n",
    "\n",
    "    # Load the dataset\n",
    "    # Create dataset from the image patches\n",
    "    for index, image_file in enumerate(sorted(os.listdir(data_dir))):\n",
    "        # if index not in select_image:\n",
    "        #     continue\n",
    "        filename, ext = os.path.splitext(image_file)\n",
    "        if filename not in select_image:\n",
    "            continue\n",
    "        img = Image.open(os.path.join(data_dir, image_file))\n",
    "        w, h = img.size\n",
    "        d = patch_size[0]\n",
    "\n",
    "        dataset = []\n",
    "        count = 0\n",
    "        step = int(d*(1-overlap))\n",
    "        grid = product(range(0, h-h%d-d+1, step), range(0, w-w%d-d+1, step))\n",
    "        for i, j in grid:\n",
    "            box = (j, i, j+d, i+d)\n",
    "            count += 1\n",
    "            patch = img.crop(box)\n",
    "            patch_arr = np.asarray(patch)\n",
    "            # img_arr = np.expand_dims(img_arr, 0)\n",
    "            # img_PIL = Image.fromarray(img_arr)\n",
    "\n",
    "            # Create the dataset loader\n",
    "            patch_tensor = torch.tensor(patch_arr)\n",
    "\n",
    "            # Get coord in [x, y] format\n",
    "            coord = [int(i), int(j)]\n",
    "\n",
    "            dataset.append([patch_tensor, coord])\n",
    "\n",
    "        roi_loader = DataLoader(dataset=dataset, batch_size=count)\n",
    "        print(\"File:\", filename)\n",
    "\n",
    "        num_batches = len(roi_loader)\n",
    "        print('number of batches: ', len(roi_loader)) # len(roi_loader) = count / (batch_size)\n",
    "        mode = \"w\"\n",
    "\n",
    "        attention_scores = []\n",
    "        coords_list = []\n",
    "\n",
    "        for idx, (roi, coords) in enumerate(roi_loader):\n",
    "            roi = roi.to(device)\n",
    "\n",
    "            with torch.no_grad():\n",
    "                roi = roi.reshape([count, 3, patch_size[0], patch_size[1]])\n",
    "                roi = roi.float()\n",
    "                features = feature_extractor(roi)\n",
    "\n",
    "                if attn_save_path is not None:\n",
    "                    A = model(features, attention_only=True)\n",
    "                    # A = F.softmax(A, dim=1)  # softmax over N\n",
    "\n",
    "                    if A.size(0) > 1: #CLAM multi-branch attention\n",
    "                        if clam_pred:\n",
    "                            A = A[clam_pred]\n",
    "\n",
    "                    A = A.view(-1, 1).cpu().numpy()\n",
    "\n",
    "                    if ref_scores is not None:\n",
    "                        for score_idx in range(len(A)):\n",
    "                            A[score_idx] = score2percentile(A[score_idx], ref_scores)\n",
    "\n",
    "                    # Save\n",
    "                    attention_scores.append(A)\n",
    "                    coords_list.append(coords)\n",
    "\n",
    "            # if idx % math.ceil(num_batches * 0.05) == 0:\n",
    "            #     print('procssed {} / {}'.format(idx, num_batches))\n",
    "\n",
    "            if feat_save_path is not None:\n",
    "                asset_dict = {'features': features.cpu().numpy(), 'coords': coords}\n",
    "                # Save # TBD. Not required\n",
    "\n",
    "            heatmap_dict.append({\"filename\": filename, \"attention_scores\": attention_scores, \"coords_list\": coords_list})\n",
    "\n",
    "            mode = \"a\"\n",
    "    return heatmap_dict\n",
    "\n",
    "\n",
    "def generate_heatmap_dict(exp_code, use_overlap=True):\n",
    "    \"\"\"\n",
    "    Run saved model on select images for generating heatmap info.\n",
    "    \"\"\"\n",
    "    feature_extractor = resnet50_baseline(pretrained=True)\n",
    "    feature_extractor.eval()\n",
    "    device=torch.device(\"cuda\" if torch.cuda.is_available() else \"cpu\")\n",
    "\n",
    "    if torch.cuda.device_count() > 1:\n",
    "        device_ids = list(range(torch.cuda.device_count()))\n",
    "        feature_extractor = nn.DataParallel(feature_extractor, device_ids=device_ids).to('cuda:0')\n",
    "    else:\n",
    "        feature_extractor = feature_extractor.to(device)\n",
    "    feature_extractor.eval()\n",
    "\n",
    "    # Load model\n",
    "    model_dict = {\"dropout\": drop_out, 'n_classes': n_classes}\n",
    "\n",
    "    if model_size is not None and model_type in ['clam_sb', 'clam_mb']:\n",
    "        model_dict.update({\"size_arg\": model_size})\n",
    "\n",
    "    if model_type =='clam_sb':\n",
    "        model = CLAM_SB(**model_dict)\n",
    "    elif model_type =='clam_mb':\n",
    "        model = CLAM_MB(**model_dict)\n",
    "    else: # model_type == 'mil'\n",
    "        if n_classes > 2:\n",
    "            model = MIL_fc_mc(**model_dict)\n",
    "        else:\n",
    "            model = MIL_fc(**model_dict)\n",
    "\n",
    "    print_network(model)\n",
    "\n",
    "    for split in splits:\n",
    "        print(\"Evaluating attentions scores for split_{}\".format(split))\n",
    "\n",
    "        save_path = os.path.join(results_dir, exp_code, \"splits_\"+str(split), \"heatmaps\")\n",
    "        if not os.path.isdir(save_path):\n",
    "            os.mkdir(save_path)\n",
    "        ref_scores = None\n",
    "        Y_hats = None\n",
    "        ckpt_path = \"s_\"+str(split)+\"_checkpoint.pt\"\n",
    "        ckpt_path = os.path.join(results_dir, exp_code, \"splits_\"+str(split), ckpt_path)\n",
    "\n",
    "        ckpt = torch.load(ckpt_path)\n",
    "        ckpt_clean = {}\n",
    "        for key in ckpt.keys():\n",
    "            if 'instance_loss_fn' in key:\n",
    "                continue\n",
    "            ckpt_clean.update({key.replace('.module', ''):ckpt[key]})\n",
    "\n",
    "        # Replace 3 with 2.\n",
    "        ckpt_clean_2 = {}\n",
    "        for key, value in ckpt_clean.items():\n",
    "            new_key = key.replace(\"3\", \"2\") if \"3\" in key else key\n",
    "            ckpt_clean_2[new_key] = value\n",
    "        model.load_state_dict(ckpt_clean_2, strict=True)\n",
    "\n",
    "        model.relocate()\n",
    "        model.eval()\n",
    "\n",
    "        if only_test_split:\n",
    "            csv_path = '{}/splits_{}.csv'.format(split_dir, split)\n",
    "            df = pd.read_csv(csv_path)\n",
    "            test_split = df[df['test'].notnull()]['test']\n",
    "            test_split = list(test_split)\n",
    "        else:\n",
    "            test_split = None\n",
    "\n",
    "        if use_overlap:\n",
    "            heatmap_dict = compute_from_patches_overlap(model=model, feature_extractor=feature_extractor, batch_size=512, attn_save_path=save_path, ref_scores=ref_scores, test_split=test_split)\n",
    "        else:\n",
    "            heatmap_dict = compute_from_patches(model=model, feature_extractor=feature_extractor, batch_size=512, attn_save_path=save_path,  ref_scores=ref_scores)\n",
    "\n",
    "        heatmap_dict_save = os.path.join(results_dir, exp_code, \"splits_\"+str(split), \"heatmap_dict.pkl\")\n",
    "        save_pkl(heatmap_dict_save, heatmap_dict)\n",
    "        print()\n",
    "\n",
    "    print(\"Done!\")\n",
    "\n",
    "\n",
    "def draw_heatmaps(exp_code, cmap='coolwarm'):\n",
    "    \"\"\"\n",
    "    Plot and save the heatmaps.\n",
    "    \"\"\"\n",
    "    for split in splits:\n",
    "        ckpt_path = \"s_\"+str(split)+\"_checkpoint.pt\"\n",
    "        save_path = os.path.join(results_dir, exp_code, \"splits_\"+str(split), \"heatmaps\")\n",
    "        if delete_previous:\n",
    "            os.remove(save_path)\n",
    "        if not os.path.isdir(save_path):\n",
    "            os.mkdir(save_path)\n",
    "\n",
    "        heatmap_dict = load_pkl(os.path.join(results_dir, exp_code, \"splits_\"+str(split), \"heatmap_dict.pkl\"))\n",
    "\n",
    "        for image_file in heatmap_dict:\n",
    "            image_name = image_file['filename']\n",
    "            attention_scores = image_file['attention_scores']\n",
    "            coords_list = image_file['coords_list']\n",
    "\n",
    "            plt.clf()\n",
    "            if isinstance(cmap, str):\n",
    "                cmap = plt.get_cmap(cmap)\n",
    "\n",
    "            img_path = os.path.join(data_dir, image_name+image_ext)\n",
    "            # orig_img = np.array(Image.open(img_path))\n",
    "            # orig_img = orig_img[0:1024, 0:1536] # No left-overs\n",
    "\n",
    "            orig_img = cv.imread(img_path)\n",
    "            orig_img = orig_img[0:1024, 0:1536] # No left-overs\n",
    "\n",
    "\n",
    "            scores = attention_scores[0].copy()\n",
    "            scores = [float(x) for x in scores]\n",
    "            percentiles = []\n",
    "            for score in scores:\n",
    "                percentile = percentileofscore(scores, score)\n",
    "                percentiles.append(percentile/100)\n",
    "            # print(scores)\n",
    "            # print()\n",
    "            # print(percentiles)\n",
    "\n",
    "            heatmap_mask = np.zeros([1024, 1536, 3])\n",
    "\n",
    "            for index, block_score in enumerate(percentiles):\n",
    "                x = 256 * coords_list[0][0][index].item() # Top left corner\n",
    "                y = 256 * coords_list[0][1][index].item() # Top left corner\n",
    "                # print(\"Score, x, y:\", score, x, y)\n",
    "                # print(x, y, x+patch_size[0], y+patch_size[1])\n",
    "\n",
    "                raw_block = np.ones([256, 256])\n",
    "                color_block = cmap(raw_block*block_score)[:,:,:3]\n",
    "                heatmap_mask[x:x+patch_size[0], y:y+patch_size[1], :] = color_block.copy()\n",
    "\n",
    "                if index % 4 == 0:\n",
    "                    plt.text(y+0.5*patch_size[1], x+0.5*patch_size[0], str(round(percentiles[index], 4))+\"\\n\"+str(round(scores[index], 4)), fontsize='x-small')\n",
    "\n",
    "            heatmap_mask = cv.blur(heatmap_mask, tuple(blur))\n",
    "\n",
    "            img_heatmap_filename = os.path.join(save_path, image_name+\"_heatmap\"+\".png\")\n",
    "\n",
    "            orig_img = orig_img.astype(np.float32)\n",
    "            orig_img /= 255.0\n",
    "\n",
    "            alpha = 0.75\n",
    "            beta = 0.25\n",
    "            gamma = 0.0\n",
    "            eps = 1e-8\n",
    "\n",
    "            img_heatmap = cv.addWeighted(orig_img, alpha, heatmap_mask, beta, gamma, dtype=cv.CV_64F)\n",
    "            # img_heatmap = orig_img.copy()\n",
    "\n",
    "            # Normalise\n",
    "            numer = img_heatmap - np.min(img_heatmap)\n",
    "            denom = (img_heatmap.max() - img_heatmap.min()) + eps\n",
    "            img_heatmap = numer / denom\n",
    "\n",
    "            plt.imshow(img_heatmap)\n",
    "            plt.savefig(img_heatmap_filename)\n",
    "            print(\"Saved\", img_heatmap_filename)\n",
    "        print()\n",
    "\n",
    "\n",
    "def draw_heatmaps_overlap(exp_code, cmap='coolwarm'):\n",
    "    \"\"\"\n",
    "    Plot and save the heatmaps. Overlap method.\n",
    "    \"\"\"\n",
    "    for split in splits:\n",
    "        ckpt_path = \"s_\"+str(split)+\"_checkpoint.pt\"\n",
    "        save_path = os.path.join(results_dir, exp_code, \"splits_\"+str(split), \"heatmaps\")\n",
    "        if delete_previous:\n",
    "            shutil.rmtree(save_path)\n",
    "        if not os.path.isdir(save_path):\n",
    "            os.mkdir(save_path)\n",
    "\n",
    "        if get_patch_acc:\n",
    "            patch_accuracies = []\n",
    "            avg_positive_acc_sc = 0\n",
    "            avg_positive_f1_sc = 0\n",
    "            avg_positive_sc_counter = 0\n",
    "        heatmap_dict = load_pkl(os.path.join(results_dir, exp_code, \"splits_\"+str(split), \"heatmap_dict.pkl\"))\n",
    "\n",
    "        for image_file in heatmap_dict:\n",
    "            image_name = image_file['filename']\n",
    "            attention_scores = image_file['attention_scores']\n",
    "            coords_list = image_file['coords_list']\n",
    "            # print(coords_list)\n",
    "\n",
    "            plt.clf()\n",
    "            if isinstance(cmap, str):\n",
    "                cmap = plt.get_cmap(cmap)\n",
    "\n",
    "            img_path = os.path.join(data_dir, image_name+image_ext)\n",
    "            # orig_img = np.array(Image.open(img_path))\n",
    "            # orig_img = orig_img[0:1024, 0:1536] # No left-overs\n",
    "\n",
    "            orig_img = cv.imread(img_path)\n",
    "            orig_img = orig_img[0:1024, 0:1536] # No left-overs\n",
    "\n",
    "            scores = attention_scores[0].copy()\n",
    "            scores = [float(x) for x in scores]\n",
    "            percentiles = []\n",
    "            for score in scores:\n",
    "                percentile = percentileofscore(scores, score)\n",
    "                percentiles.append(percentile/100)\n",
    "            # print(scores)\n",
    "            # print()\n",
    "            # print(percentiles)\n",
    "\n",
    "            if get_patch_acc:\n",
    "                patch_annot_path = os.path.join(annot_dir, image_name, image_name+'.pkl')\n",
    "                if \"F\" in image_name:\n",
    "                    patch_annot = load_pkl(patch_annot_path)\n",
    "                    patch_annot = patch_annot['bin_scores']\n",
    "                elif \"N\" in image_name:\n",
    "                    patch_annot = [1]*len(scores)\n",
    "\n",
    "                preds = [1 if x >= 0.5 else 0 for x in percentiles]\n",
    "                acc_sc = accuracy_score(patch_annot, preds)\n",
    "                f1_sc = f1_score(patch_annot, preds, average='macro')\n",
    "                patch_accuracies.append({\n",
    "                    'filename': image_name,\n",
    "                    'accuracy_score': acc_sc,\n",
    "                    'f1_score': f1_sc})\n",
    "\n",
    "                if \"F\" in image_name:\n",
    "                    avg_positive_acc_sc += acc_sc\n",
    "                    avg_positive_f1_sc += f1_sc\n",
    "                    avg_positive_sc_counter += 1\n",
    "\n",
    "            heatmap_mask = np.zeros([1024, 1536, 3])\n",
    "            counter = np.zeros([1024, 1536, 3])\n",
    "\n",
    "            for index, block_score in enumerate(percentiles):\n",
    "                x = coords_list[0][0][index].item() # Top left corner\n",
    "                y = coords_list[0][1][index].item() # Top left corner\n",
    "                # print(\"Score, x, y:\", block_score, x, y)\n",
    "                # print(x, y, x+patch_size[0], y+patch_size[1])\n",
    "\n",
    "                raw_block = np.ones([patch_size[0], patch_size[1]])\n",
    "                color_block = cmap(raw_block*block_score)[:,:,:3]\n",
    "                heatmap_mask[x:x+patch_size[0], y:y+patch_size[1], :] += color_block.copy()\n",
    "                counter[x:x+patch_size[0], y:y+patch_size[1], :] += 1\n",
    "\n",
    "                if show_labels:\n",
    "                    plt.text(y+0.5*patch_size[1], x+0.5*patch_size[0], str(math.floor(percentiles[index] * 100))+\"\\n\"+str(math.floor(scores[index] * 1e4)), fontsize='x-small')\n",
    "            # print(heatmap_mask.shape)\n",
    "\n",
    "            # Average\n",
    "            zero_mask = counter == 0\n",
    "    #             heatmap_mask[~zero_mask] = heatmap_mask[~zero_mask] / counter[~zero_mask]\n",
    "            del counter\n",
    "\n",
    "            # Normalise\n",
    "            # eps = 1e-8\n",
    "            # numer = heatmap_mask - np.min(heatmap_mask)\n",
    "            # denom = (heatmap_mask.max() - heatmap_mask.min()) + eps\n",
    "            # heatmap_mask = numer / denom\n",
    "            # heatmap_mask = cv.blur(heatmap_mask, tuple(blur))\n",
    "\n",
    "            img_heatmap_filename = os.path.join(save_path, image_name+\"_heatmap\"+\".png\")\n",
    "\n",
    "            orig_img = orig_img.astype(np.float32)\n",
    "            orig_img /= 255.0\n",
    "\n",
    "            alpha = 0.75\n",
    "            beta = 0.25\n",
    "            gamma = 0.0\n",
    "            eps = 1e-8\n",
    "\n",
    "            blank = np.ones([1024, 1536, 3])\n",
    "            # img_heatmap = cv.addWeighted(blank, alpha, heatmap_mask, beta, gamma, dtype=cv.CV_64F)\n",
    "            img_heatmap = heatmap_mask.copy()\n",
    "            # img_heatmap = orig_img.copy()\n",
    "\n",
    "            # Normalise\n",
    "    #             numer = img_heatmap - np.min(img_heatmap)\n",
    "    #             denom = (img_heatmap.max() - img_heatmap.min()) + eps\n",
    "    #             img_heatmap = numer / denom\n",
    "\n",
    "            plt.imshow(img_heatmap)\n",
    "            plt.savefig(img_heatmap_filename)\n",
    "            print(\"Saved\", img_heatmap_filename)\n",
    "        print()\n",
    "\n",
    "        if get_patch_acc:\n",
    "            avg_positive_acc_sc /= avg_positive_sc_counter\n",
    "            avg_positive_f1_sc /= avg_positive_sc_counter\n",
    "            patch_accuracies.append({\n",
    "                'avg_positive_acc_sc': avg_positive_acc_sc,\n",
    "                'avg_positive_f1_sc': avg_positive_f1_sc\n",
    "                })\n",
    "\n",
    "            acc_dict_save = os.path.join(results_dir, exp_code, \"splits_\"+str(split), \"acc_dict.pkl\")\n",
    "            save_pkl(acc_dict_save, patch_accuracies)"
   ]
  },
  {
   "cell_type": "code",
   "execution_count": null,
   "id": "86c67814",
   "metadata": {},
   "outputs": [
    {
     "name": "stderr",
     "output_type": "stream",
     "text": [
      "Clipping input data to the valid range for imshow with RGB data ([0..1] for floats or [0..255] for integers).\n"
     ]
    },
    {
     "name": "stdout",
     "output_type": "stream",
     "text": [
      "Saved ../experiments/results/exp_131_s1/splits_0/heatmaps/F005a02_heatmap.png\n"
     ]
    },
    {
     "name": "stderr",
     "output_type": "stream",
     "text": [
      "Clipping input data to the valid range for imshow with RGB data ([0..1] for floats or [0..255] for integers).\n"
     ]
    },
    {
     "name": "stdout",
     "output_type": "stream",
     "text": [
      "Saved ../experiments/results/exp_131_s1/splits_0/heatmaps/F006a01_heatmap.png\n",
      "\n"
     ]
    },
    {
     "name": "stderr",
     "output_type": "stream",
     "text": [
      "Clipping input data to the valid range for imshow with RGB data ([0..1] for floats or [0..255] for integers).\n"
     ]
    },
    {
     "name": "stdout",
     "output_type": "stream",
     "text": [
      "Saved ../experiments/results/exp_131_s1/splits_1/heatmaps/F006a08_heatmap.png\n"
     ]
    },
    {
     "name": "stderr",
     "output_type": "stream",
     "text": [
      "Clipping input data to the valid range for imshow with RGB data ([0..1] for floats or [0..255] for integers).\n"
     ]
    },
    {
     "name": "stdout",
     "output_type": "stream",
     "text": [
      "Saved ../experiments/results/exp_131_s1/splits_1/heatmaps/F007a04_heatmap.png\n"
     ]
    },
    {
     "name": "stderr",
     "output_type": "stream",
     "text": [
      "Clipping input data to the valid range for imshow with RGB data ([0..1] for floats or [0..255] for integers).\n"
     ]
    },
    {
     "name": "stdout",
     "output_type": "stream",
     "text": [
      "Saved ../experiments/results/exp_131_s1/splits_1/heatmaps/F007a13_heatmap.png\n"
     ]
    },
    {
     "name": "stderr",
     "output_type": "stream",
     "text": [
      "Clipping input data to the valid range for imshow with RGB data ([0..1] for floats or [0..255] for integers).\n"
     ]
    },
    {
     "name": "stdout",
     "output_type": "stream",
     "text": [
      "Saved ../experiments/results/exp_131_s1/splits_1/heatmaps/F007a21_heatmap.png\n"
     ]
    },
    {
     "name": "stderr",
     "output_type": "stream",
     "text": [
      "Clipping input data to the valid range for imshow with RGB data ([0..1] for floats or [0..255] for integers).\n"
     ]
    },
    {
     "name": "stdout",
     "output_type": "stream",
     "text": [
      "Saved ../experiments/results/exp_131_s1/splits_1/heatmaps/F010a01_heatmap.png\n"
     ]
    },
    {
     "name": "stderr",
     "output_type": "stream",
     "text": [
      "Clipping input data to the valid range for imshow with RGB data ([0..1] for floats or [0..255] for integers).\n"
     ]
    },
    {
     "name": "stdout",
     "output_type": "stream",
     "text": [
      "Saved ../experiments/results/exp_131_s1/splits_1/heatmaps/F012a03_heatmap.png\n"
     ]
    },
    {
     "name": "stderr",
     "output_type": "stream",
     "text": [
      "Clipping input data to the valid range for imshow with RGB data ([0..1] for floats or [0..255] for integers).\n"
     ]
    },
    {
     "name": "stdout",
     "output_type": "stream",
     "text": [
      "Saved ../experiments/results/exp_131_s1/splits_1/heatmaps/F013a09_heatmap.png\n"
     ]
    },
    {
     "name": "stderr",
     "output_type": "stream",
     "text": [
      "Clipping input data to the valid range for imshow with RGB data ([0..1] for floats or [0..255] for integers).\n"
     ]
    },
    {
     "name": "stdout",
     "output_type": "stream",
     "text": [
      "Saved ../experiments/results/exp_131_s1/splits_1/heatmaps/F013a12_heatmap.png\n"
     ]
    },
    {
     "name": "stderr",
     "output_type": "stream",
     "text": [
      "Clipping input data to the valid range for imshow with RGB data ([0..1] for floats or [0..255] for integers).\n"
     ]
    },
    {
     "name": "stdout",
     "output_type": "stream",
     "text": [
      "Saved ../experiments/results/exp_131_s1/splits_1/heatmaps/F017a08_heatmap.png\n"
     ]
    },
    {
     "name": "stderr",
     "output_type": "stream",
     "text": [
      "Clipping input data to the valid range for imshow with RGB data ([0..1] for floats or [0..255] for integers).\n"
     ]
    },
    {
     "name": "stdout",
     "output_type": "stream",
     "text": [
      "Saved ../experiments/results/exp_131_s1/splits_1/heatmaps/F018a05_heatmap.png\n"
     ]
    },
    {
     "name": "stderr",
     "output_type": "stream",
     "text": [
      "Clipping input data to the valid range for imshow with RGB data ([0..1] for floats or [0..255] for integers).\n"
     ]
    },
    {
     "name": "stdout",
     "output_type": "stream",
     "text": [
      "Saved ../experiments/results/exp_131_s1/splits_1/heatmaps/F021a05_heatmap.png\n"
     ]
    },
    {
     "name": "stderr",
     "output_type": "stream",
     "text": [
      "Clipping input data to the valid range for imshow with RGB data ([0..1] for floats or [0..255] for integers).\n"
     ]
    },
    {
     "name": "stdout",
     "output_type": "stream",
     "text": [
      "Saved ../experiments/results/exp_131_s1/splits_1/heatmaps/F030a02_heatmap.png\n"
     ]
    },
    {
     "name": "stderr",
     "output_type": "stream",
     "text": [
      "Clipping input data to the valid range for imshow with RGB data ([0..1] for floats or [0..255] for integers).\n"
     ]
    },
    {
     "name": "stdout",
     "output_type": "stream",
     "text": [
      "Saved ../experiments/results/exp_131_s1/splits_1/heatmaps/F030a13_heatmap.png\n"
     ]
    },
    {
     "name": "stderr",
     "output_type": "stream",
     "text": [
      "Clipping input data to the valid range for imshow with RGB data ([0..1] for floats or [0..255] for integers).\n"
     ]
    },
    {
     "name": "stdout",
     "output_type": "stream",
     "text": [
      "Saved ../experiments/results/exp_131_s1/splits_1/heatmaps/F033a02_heatmap.png\n"
     ]
    },
    {
     "name": "stderr",
     "output_type": "stream",
     "text": [
      "Clipping input data to the valid range for imshow with RGB data ([0..1] for floats or [0..255] for integers).\n"
     ]
    },
    {
     "name": "stdout",
     "output_type": "stream",
     "text": [
      "Saved ../experiments/results/exp_131_s1/splits_1/heatmaps/F033a04_heatmap.png\n"
     ]
    },
    {
     "name": "stderr",
     "output_type": "stream",
     "text": [
      "Clipping input data to the valid range for imshow with RGB data ([0..1] for floats or [0..255] for integers).\n"
     ]
    },
    {
     "name": "stdout",
     "output_type": "stream",
     "text": [
      "Saved ../experiments/results/exp_131_s1/splits_1/heatmaps/F033a07_heatmap.png\n"
     ]
    },
    {
     "name": "stderr",
     "output_type": "stream",
     "text": [
      "Clipping input data to the valid range for imshow with RGB data ([0..1] for floats or [0..255] for integers).\n"
     ]
    },
    {
     "name": "stdout",
     "output_type": "stream",
     "text": [
      "Saved ../experiments/results/exp_131_s1/splits_1/heatmaps/F033a26_heatmap.png\n"
     ]
    },
    {
     "name": "stderr",
     "output_type": "stream",
     "text": [
      "Clipping input data to the valid range for imshow with RGB data ([0..1] for floats or [0..255] for integers).\n"
     ]
    },
    {
     "name": "stdout",
     "output_type": "stream",
     "text": [
      "Saved ../experiments/results/exp_131_s1/splits_1/heatmaps/F034a06_heatmap.png\n"
     ]
    },
    {
     "name": "stderr",
     "output_type": "stream",
     "text": [
      "Clipping input data to the valid range for imshow with RGB data ([0..1] for floats or [0..255] for integers).\n"
     ]
    },
    {
     "name": "stdout",
     "output_type": "stream",
     "text": [
      "Saved ../experiments/results/exp_131_s1/splits_1/heatmaps/F052a05_heatmap.png\n"
     ]
    },
    {
     "name": "stderr",
     "output_type": "stream",
     "text": [
      "Clipping input data to the valid range for imshow with RGB data ([0..1] for floats or [0..255] for integers).\n"
     ]
    },
    {
     "name": "stdout",
     "output_type": "stream",
     "text": [
      "Saved ../experiments/results/exp_131_s1/splits_1/heatmaps/F052a09_heatmap.png\n"
     ]
    },
    {
     "name": "stderr",
     "output_type": "stream",
     "text": [
      "Clipping input data to the valid range for imshow with RGB data ([0..1] for floats or [0..255] for integers).\n"
     ]
    },
    {
     "name": "stdout",
     "output_type": "stream",
     "text": [
      "Saved ../experiments/results/exp_131_s1/splits_1/heatmaps/F052a11_heatmap.png\n"
     ]
    },
    {
     "name": "stderr",
     "output_type": "stream",
     "text": [
      "Clipping input data to the valid range for imshow with RGB data ([0..1] for floats or [0..255] for integers).\n"
     ]
    },
    {
     "name": "stdout",
     "output_type": "stream",
     "text": [
      "Saved ../experiments/results/exp_131_s1/splits_1/heatmaps/F052a17_heatmap.png\n"
     ]
    },
    {
     "name": "stderr",
     "output_type": "stream",
     "text": [
      "Clipping input data to the valid range for imshow with RGB data ([0..1] for floats or [0..255] for integers).\n"
     ]
    },
    {
     "name": "stdout",
     "output_type": "stream",
     "text": [
      "Saved ../experiments/results/exp_131_s1/splits_1/heatmaps/F053a04_heatmap.png\n"
     ]
    },
    {
     "name": "stderr",
     "output_type": "stream",
     "text": [
      "Clipping input data to the valid range for imshow with RGB data ([0..1] for floats or [0..255] for integers).\n"
     ]
    },
    {
     "name": "stdout",
     "output_type": "stream",
     "text": [
      "Saved ../experiments/results/exp_131_s1/splits_1/heatmaps/F053a15_heatmap.png\n"
     ]
    },
    {
     "name": "stderr",
     "output_type": "stream",
     "text": [
      "Clipping input data to the valid range for imshow with RGB data ([0..1] for floats or [0..255] for integers).\n"
     ]
    },
    {
     "name": "stdout",
     "output_type": "stream",
     "text": [
      "Saved ../experiments/results/exp_131_s1/splits_1/heatmaps/F056a03_heatmap.png\n"
     ]
    },
    {
     "name": "stderr",
     "output_type": "stream",
     "text": [
      "Clipping input data to the valid range for imshow with RGB data ([0..1] for floats or [0..255] for integers).\n"
     ]
    },
    {
     "name": "stdout",
     "output_type": "stream",
     "text": [
      "Saved ../experiments/results/exp_131_s1/splits_1/heatmaps/F056a07_heatmap.png\n"
     ]
    },
    {
     "name": "stderr",
     "output_type": "stream",
     "text": [
      "Clipping input data to the valid range for imshow with RGB data ([0..1] for floats or [0..255] for integers).\n"
     ]
    },
    {
     "name": "stdout",
     "output_type": "stream",
     "text": [
      "Saved ../experiments/results/exp_131_s1/splits_1/heatmaps/F056a08_heatmap.png\n"
     ]
    },
    {
     "name": "stderr",
     "output_type": "stream",
     "text": [
      "Clipping input data to the valid range for imshow with RGB data ([0..1] for floats or [0..255] for integers).\n"
     ]
    },
    {
     "name": "stdout",
     "output_type": "stream",
     "text": [
      "Saved ../experiments/results/exp_131_s1/splits_1/heatmaps/F056a09_heatmap.png\n"
     ]
    },
    {
     "name": "stderr",
     "output_type": "stream",
     "text": [
      "Clipping input data to the valid range for imshow with RGB data ([0..1] for floats or [0..255] for integers).\n"
     ]
    },
    {
     "name": "stdout",
     "output_type": "stream",
     "text": [
      "Saved ../experiments/results/exp_131_s1/splits_1/heatmaps/F056a11_heatmap.png\n"
     ]
    },
    {
     "name": "stderr",
     "output_type": "stream",
     "text": [
      "Clipping input data to the valid range for imshow with RGB data ([0..1] for floats or [0..255] for integers).\n"
     ]
    },
    {
     "name": "stdout",
     "output_type": "stream",
     "text": [
      "Saved ../experiments/results/exp_131_s1/splits_1/heatmaps/F057a01_heatmap.png\n"
     ]
    },
    {
     "name": "stderr",
     "output_type": "stream",
     "text": [
      "Clipping input data to the valid range for imshow with RGB data ([0..1] for floats or [0..255] for integers).\n"
     ]
    },
    {
     "name": "stdout",
     "output_type": "stream",
     "text": [
      "Saved ../experiments/results/exp_131_s1/splits_1/heatmaps/F058a03_heatmap.png\n"
     ]
    },
    {
     "name": "stderr",
     "output_type": "stream",
     "text": [
      "Clipping input data to the valid range for imshow with RGB data ([0..1] for floats or [0..255] for integers).\n"
     ]
    },
    {
     "name": "stdout",
     "output_type": "stream",
     "text": [
      "Saved ../experiments/results/exp_131_s1/splits_1/heatmaps/N001a002_heatmap.png\n"
     ]
    },
    {
     "name": "stderr",
     "output_type": "stream",
     "text": [
      "Clipping input data to the valid range for imshow with RGB data ([0..1] for floats or [0..255] for integers).\n"
     ]
    },
    {
     "name": "stdout",
     "output_type": "stream",
     "text": [
      "Saved ../experiments/results/exp_131_s1/splits_1/heatmaps/N004a001_heatmap.png\n"
     ]
    },
    {
     "name": "stderr",
     "output_type": "stream",
     "text": [
      "Clipping input data to the valid range for imshow with RGB data ([0..1] for floats or [0..255] for integers).\n"
     ]
    },
    {
     "name": "stdout",
     "output_type": "stream",
     "text": [
      "Saved ../experiments/results/exp_131_s1/splits_1/heatmaps/N004a011_heatmap.png\n"
     ]
    },
    {
     "name": "stderr",
     "output_type": "stream",
     "text": [
      "Clipping input data to the valid range for imshow with RGB data ([0..1] for floats or [0..255] for integers).\n"
     ]
    },
    {
     "name": "stdout",
     "output_type": "stream",
     "text": [
      "Saved ../experiments/results/exp_131_s1/splits_1/heatmaps/N004a015_heatmap.png\n"
     ]
    },
    {
     "name": "stderr",
     "output_type": "stream",
     "text": [
      "Clipping input data to the valid range for imshow with RGB data ([0..1] for floats or [0..255] for integers).\n"
     ]
    },
    {
     "name": "stdout",
     "output_type": "stream",
     "text": [
      "Saved ../experiments/results/exp_131_s1/splits_1/heatmaps/N004a043_heatmap.png\n"
     ]
    },
    {
     "name": "stderr",
     "output_type": "stream",
     "text": [
      "Clipping input data to the valid range for imshow with RGB data ([0..1] for floats or [0..255] for integers).\n"
     ]
    },
    {
     "name": "stdout",
     "output_type": "stream",
     "text": [
      "Saved ../experiments/results/exp_131_s1/splits_1/heatmaps/N004a044_heatmap.png\n"
     ]
    },
    {
     "name": "stderr",
     "output_type": "stream",
     "text": [
      "Clipping input data to the valid range for imshow with RGB data ([0..1] for floats or [0..255] for integers).\n"
     ]
    },
    {
     "name": "stdout",
     "output_type": "stream",
     "text": [
      "Saved ../experiments/results/exp_131_s1/splits_1/heatmaps/N004a050_heatmap.png\n"
     ]
    },
    {
     "name": "stderr",
     "output_type": "stream",
     "text": [
      "Clipping input data to the valid range for imshow with RGB data ([0..1] for floats or [0..255] for integers).\n"
     ]
    },
    {
     "name": "stdout",
     "output_type": "stream",
     "text": [
      "Saved ../experiments/results/exp_131_s1/splits_1/heatmaps/N004a056_heatmap.png\n"
     ]
    },
    {
     "name": "stderr",
     "output_type": "stream",
     "text": [
      "Clipping input data to the valid range for imshow with RGB data ([0..1] for floats or [0..255] for integers).\n"
     ]
    },
    {
     "name": "stdout",
     "output_type": "stream",
     "text": [
      "Saved ../experiments/results/exp_131_s1/splits_1/heatmaps/N004a060_heatmap.png\n"
     ]
    },
    {
     "name": "stderr",
     "output_type": "stream",
     "text": [
      "Clipping input data to the valid range for imshow with RGB data ([0..1] for floats or [0..255] for integers).\n"
     ]
    },
    {
     "name": "stdout",
     "output_type": "stream",
     "text": [
      "Saved ../experiments/results/exp_131_s1/splits_1/heatmaps/N004a062_heatmap.png\n"
     ]
    },
    {
     "name": "stderr",
     "output_type": "stream",
     "text": [
      "Clipping input data to the valid range for imshow with RGB data ([0..1] for floats or [0..255] for integers).\n"
     ]
    },
    {
     "name": "stdout",
     "output_type": "stream",
     "text": [
      "Saved ../experiments/results/exp_131_s1/splits_1/heatmaps/N004a063_heatmap.png\n"
     ]
    },
    {
     "name": "stderr",
     "output_type": "stream",
     "text": [
      "Clipping input data to the valid range for imshow with RGB data ([0..1] for floats or [0..255] for integers).\n"
     ]
    },
    {
     "name": "stdout",
     "output_type": "stream",
     "text": [
      "Saved ../experiments/results/exp_131_s1/splits_1/heatmaps/N004a079_heatmap.png\n"
     ]
    },
    {
     "name": "stderr",
     "output_type": "stream",
     "text": [
      "Clipping input data to the valid range for imshow with RGB data ([0..1] for floats or [0..255] for integers).\n"
     ]
    },
    {
     "name": "stdout",
     "output_type": "stream",
     "text": [
      "Saved ../experiments/results/exp_131_s1/splits_1/heatmaps/N004a089_heatmap.png\n"
     ]
    },
    {
     "name": "stderr",
     "output_type": "stream",
     "text": [
      "Clipping input data to the valid range for imshow with RGB data ([0..1] for floats or [0..255] for integers).\n"
     ]
    },
    {
     "name": "stdout",
     "output_type": "stream",
     "text": [
      "Saved ../experiments/results/exp_131_s1/splits_1/heatmaps/N004a094_heatmap.png\n"
     ]
    },
    {
     "name": "stderr",
     "output_type": "stream",
     "text": [
      "Clipping input data to the valid range for imshow with RGB data ([0..1] for floats or [0..255] for integers).\n"
     ]
    },
    {
     "name": "stdout",
     "output_type": "stream",
     "text": [
      "Saved ../experiments/results/exp_131_s1/splits_1/heatmaps/N004a097_heatmap.png\n"
     ]
    },
    {
     "name": "stderr",
     "output_type": "stream",
     "text": [
      "Clipping input data to the valid range for imshow with RGB data ([0..1] for floats or [0..255] for integers).\n"
     ]
    },
    {
     "name": "stdout",
     "output_type": "stream",
     "text": [
      "Saved ../experiments/results/exp_131_s1/splits_1/heatmaps/N004a099_heatmap.png\n"
     ]
    },
    {
     "name": "stderr",
     "output_type": "stream",
     "text": [
      "Clipping input data to the valid range for imshow with RGB data ([0..1] for floats or [0..255] for integers).\n"
     ]
    },
    {
     "name": "stdout",
     "output_type": "stream",
     "text": [
      "Saved ../experiments/results/exp_131_s1/splits_1/heatmaps/N004a112_heatmap.png\n"
     ]
    },
    {
     "name": "stderr",
     "output_type": "stream",
     "text": [
      "Clipping input data to the valid range for imshow with RGB data ([0..1] for floats or [0..255] for integers).\n"
     ]
    },
    {
     "name": "stdout",
     "output_type": "stream",
     "text": [
      "Saved ../experiments/results/exp_131_s1/splits_1/heatmaps/N004a128_heatmap.png\n"
     ]
    },
    {
     "name": "stderr",
     "output_type": "stream",
     "text": [
      "Clipping input data to the valid range for imshow with RGB data ([0..1] for floats or [0..255] for integers).\n"
     ]
    },
    {
     "name": "stdout",
     "output_type": "stream",
     "text": [
      "Saved ../experiments/results/exp_131_s1/splits_1/heatmaps/N004a132_heatmap.png\n"
     ]
    },
    {
     "name": "stderr",
     "output_type": "stream",
     "text": [
      "Clipping input data to the valid range for imshow with RGB data ([0..1] for floats or [0..255] for integers).\n"
     ]
    },
    {
     "name": "stdout",
     "output_type": "stream",
     "text": [
      "Saved ../experiments/results/exp_131_s1/splits_1/heatmaps/N004a133_heatmap.png\n"
     ]
    },
    {
     "name": "stderr",
     "output_type": "stream",
     "text": [
      "Clipping input data to the valid range for imshow with RGB data ([0..1] for floats or [0..255] for integers).\n"
     ]
    },
    {
     "name": "stdout",
     "output_type": "stream",
     "text": [
      "Saved ../experiments/results/exp_131_s1/splits_1/heatmaps/N004a134_heatmap.png\n"
     ]
    },
    {
     "name": "stderr",
     "output_type": "stream",
     "text": [
      "Clipping input data to the valid range for imshow with RGB data ([0..1] for floats or [0..255] for integers).\n"
     ]
    },
    {
     "name": "stdout",
     "output_type": "stream",
     "text": [
      "Saved ../experiments/results/exp_131_s1/splits_1/heatmaps/N005a001_heatmap.png\n"
     ]
    },
    {
     "name": "stderr",
     "output_type": "stream",
     "text": [
      "Clipping input data to the valid range for imshow with RGB data ([0..1] for floats or [0..255] for integers).\n"
     ]
    },
    {
     "name": "stdout",
     "output_type": "stream",
     "text": [
      "Saved ../experiments/results/exp_131_s1/splits_1/heatmaps/N005a002_heatmap.png\n"
     ]
    },
    {
     "name": "stderr",
     "output_type": "stream",
     "text": [
      "Clipping input data to the valid range for imshow with RGB data ([0..1] for floats or [0..255] for integers).\n"
     ]
    },
    {
     "name": "stdout",
     "output_type": "stream",
     "text": [
      "Saved ../experiments/results/exp_131_s1/splits_1/heatmaps/N005a003_heatmap.png\n"
     ]
    },
    {
     "name": "stderr",
     "output_type": "stream",
     "text": [
      "Clipping input data to the valid range for imshow with RGB data ([0..1] for floats or [0..255] for integers).\n"
     ]
    },
    {
     "name": "stdout",
     "output_type": "stream",
     "text": [
      "Saved ../experiments/results/exp_131_s1/splits_1/heatmaps/N005a012_heatmap.png\n"
     ]
    },
    {
     "name": "stderr",
     "output_type": "stream",
     "text": [
      "Clipping input data to the valid range for imshow with RGB data ([0..1] for floats or [0..255] for integers).\n"
     ]
    },
    {
     "name": "stdout",
     "output_type": "stream",
     "text": [
      "Saved ../experiments/results/exp_131_s1/splits_1/heatmaps/N005a017_heatmap.png\n"
     ]
    },
    {
     "name": "stderr",
     "output_type": "stream",
     "text": [
      "Clipping input data to the valid range for imshow with RGB data ([0..1] for floats or [0..255] for integers).\n"
     ]
    },
    {
     "name": "stdout",
     "output_type": "stream",
     "text": [
      "Saved ../experiments/results/exp_131_s1/splits_1/heatmaps/N005a019_heatmap.png\n"
     ]
    },
    {
     "name": "stderr",
     "output_type": "stream",
     "text": [
      "Clipping input data to the valid range for imshow with RGB data ([0..1] for floats or [0..255] for integers).\n"
     ]
    },
    {
     "name": "stdout",
     "output_type": "stream",
     "text": [
      "Saved ../experiments/results/exp_131_s1/splits_1/heatmaps/N005a023_heatmap.png\n"
     ]
    },
    {
     "name": "stderr",
     "output_type": "stream",
     "text": [
      "Clipping input data to the valid range for imshow with RGB data ([0..1] for floats or [0..255] for integers).\n"
     ]
    },
    {
     "name": "stdout",
     "output_type": "stream",
     "text": [
      "Saved ../experiments/results/exp_131_s1/splits_1/heatmaps/N012a001_heatmap.png\n"
     ]
    },
    {
     "name": "stderr",
     "output_type": "stream",
     "text": [
      "Clipping input data to the valid range for imshow with RGB data ([0..1] for floats or [0..255] for integers).\n"
     ]
    },
    {
     "name": "stdout",
     "output_type": "stream",
     "text": [
      "Saved ../experiments/results/exp_131_s1/splits_1/heatmaps/N012a007_heatmap.png\n"
     ]
    },
    {
     "name": "stderr",
     "output_type": "stream",
     "text": [
      "Clipping input data to the valid range for imshow with RGB data ([0..1] for floats or [0..255] for integers).\n"
     ]
    },
    {
     "name": "stdout",
     "output_type": "stream",
     "text": [
      "Saved ../experiments/results/exp_131_s1/splits_1/heatmaps/N012a009_heatmap.png\n"
     ]
    },
    {
     "name": "stderr",
     "output_type": "stream",
     "text": [
      "Clipping input data to the valid range for imshow with RGB data ([0..1] for floats or [0..255] for integers).\n"
     ]
    },
    {
     "name": "stdout",
     "output_type": "stream",
     "text": [
      "Saved ../experiments/results/exp_131_s1/splits_1/heatmaps/N012a016_heatmap.png\n",
      "\n"
     ]
    },
    {
     "name": "stderr",
     "output_type": "stream",
     "text": [
      "Clipping input data to the valid range for imshow with RGB data ([0..1] for floats or [0..255] for integers).\n"
     ]
    },
    {
     "name": "stdout",
     "output_type": "stream",
     "text": [
      "Saved ../experiments/results/exp_131_s1/splits_2/heatmaps/F006a05_heatmap.png\n"
     ]
    },
    {
     "name": "stderr",
     "output_type": "stream",
     "text": [
      "Clipping input data to the valid range for imshow with RGB data ([0..1] for floats or [0..255] for integers).\n"
     ]
    },
    {
     "name": "stdout",
     "output_type": "stream",
     "text": [
      "Saved ../experiments/results/exp_131_s1/splits_2/heatmaps/F007a11_heatmap.png\n"
     ]
    },
    {
     "name": "stderr",
     "output_type": "stream",
     "text": [
      "Clipping input data to the valid range for imshow with RGB data ([0..1] for floats or [0..255] for integers).\n"
     ]
    },
    {
     "name": "stdout",
     "output_type": "stream",
     "text": [
      "Saved ../experiments/results/exp_131_s1/splits_2/heatmaps/F007a12_heatmap.png\n"
     ]
    },
    {
     "name": "stderr",
     "output_type": "stream",
     "text": [
      "Clipping input data to the valid range for imshow with RGB data ([0..1] for floats or [0..255] for integers).\n"
     ]
    },
    {
     "name": "stdout",
     "output_type": "stream",
     "text": [
      "Saved ../experiments/results/exp_131_s1/splits_2/heatmaps/F007a17_heatmap.png\n"
     ]
    },
    {
     "name": "stderr",
     "output_type": "stream",
     "text": [
      "Clipping input data to the valid range for imshow with RGB data ([0..1] for floats or [0..255] for integers).\n"
     ]
    },
    {
     "name": "stdout",
     "output_type": "stream",
     "text": [
      "Saved ../experiments/results/exp_131_s1/splits_2/heatmaps/F010a01_heatmap.png\n"
     ]
    },
    {
     "name": "stderr",
     "output_type": "stream",
     "text": [
      "Clipping input data to the valid range for imshow with RGB data ([0..1] for floats or [0..255] for integers).\n"
     ]
    },
    {
     "name": "stdout",
     "output_type": "stream",
     "text": [
      "Saved ../experiments/results/exp_131_s1/splits_2/heatmaps/F010a05_heatmap.png\n"
     ]
    },
    {
     "name": "stderr",
     "output_type": "stream",
     "text": [
      "Clipping input data to the valid range for imshow with RGB data ([0..1] for floats or [0..255] for integers).\n"
     ]
    },
    {
     "name": "stdout",
     "output_type": "stream",
     "text": [
      "Saved ../experiments/results/exp_131_s1/splits_2/heatmaps/F013a05_heatmap.png\n"
     ]
    },
    {
     "name": "stderr",
     "output_type": "stream",
     "text": [
      "Clipping input data to the valid range for imshow with RGB data ([0..1] for floats or [0..255] for integers).\n"
     ]
    },
    {
     "name": "stdout",
     "output_type": "stream",
     "text": [
      "Saved ../experiments/results/exp_131_s1/splits_2/heatmaps/F013a15_heatmap.png\n"
     ]
    },
    {
     "name": "stderr",
     "output_type": "stream",
     "text": [
      "Clipping input data to the valid range for imshow with RGB data ([0..1] for floats or [0..255] for integers).\n"
     ]
    },
    {
     "name": "stdout",
     "output_type": "stream",
     "text": [
      "Saved ../experiments/results/exp_131_s1/splits_2/heatmaps/F018a09_heatmap.png\n"
     ]
    },
    {
     "name": "stderr",
     "output_type": "stream",
     "text": [
      "Clipping input data to the valid range for imshow with RGB data ([0..1] for floats or [0..255] for integers).\n"
     ]
    },
    {
     "name": "stdout",
     "output_type": "stream",
     "text": [
      "Saved ../experiments/results/exp_131_s1/splits_2/heatmaps/F018a10_heatmap.png\n"
     ]
    },
    {
     "name": "stderr",
     "output_type": "stream",
     "text": [
      "Clipping input data to the valid range for imshow with RGB data ([0..1] for floats or [0..255] for integers).\n"
     ]
    },
    {
     "name": "stdout",
     "output_type": "stream",
     "text": [
      "Saved ../experiments/results/exp_131_s1/splits_2/heatmaps/F030a02_heatmap.png\n"
     ]
    },
    {
     "name": "stderr",
     "output_type": "stream",
     "text": [
      "Clipping input data to the valid range for imshow with RGB data ([0..1] for floats or [0..255] for integers).\n"
     ]
    },
    {
     "name": "stdout",
     "output_type": "stream",
     "text": [
      "Saved ../experiments/results/exp_131_s1/splits_2/heatmaps/F030a11_heatmap.png\n"
     ]
    },
    {
     "name": "stderr",
     "output_type": "stream",
     "text": [
      "Clipping input data to the valid range for imshow with RGB data ([0..1] for floats or [0..255] for integers).\n"
     ]
    },
    {
     "name": "stdout",
     "output_type": "stream",
     "text": [
      "Saved ../experiments/results/exp_131_s1/splits_2/heatmaps/F030a12_heatmap.png\n"
     ]
    },
    {
     "name": "stderr",
     "output_type": "stream",
     "text": [
      "Clipping input data to the valid range for imshow with RGB data ([0..1] for floats or [0..255] for integers).\n"
     ]
    },
    {
     "name": "stdout",
     "output_type": "stream",
     "text": [
      "Saved ../experiments/results/exp_131_s1/splits_2/heatmaps/F033a01_heatmap.png\n"
     ]
    },
    {
     "name": "stderr",
     "output_type": "stream",
     "text": [
      "Clipping input data to the valid range for imshow with RGB data ([0..1] for floats or [0..255] for integers).\n"
     ]
    },
    {
     "name": "stdout",
     "output_type": "stream",
     "text": [
      "Saved ../experiments/results/exp_131_s1/splits_2/heatmaps/F033a03_heatmap.png\n"
     ]
    },
    {
     "name": "stderr",
     "output_type": "stream",
     "text": [
      "Clipping input data to the valid range for imshow with RGB data ([0..1] for floats or [0..255] for integers).\n"
     ]
    },
    {
     "name": "stdout",
     "output_type": "stream",
     "text": [
      "Saved ../experiments/results/exp_131_s1/splits_2/heatmaps/F033a14_heatmap.png\n"
     ]
    },
    {
     "name": "stderr",
     "output_type": "stream",
     "text": [
      "Clipping input data to the valid range for imshow with RGB data ([0..1] for floats or [0..255] for integers).\n"
     ]
    },
    {
     "name": "stdout",
     "output_type": "stream",
     "text": [
      "Saved ../experiments/results/exp_131_s1/splits_2/heatmaps/F033a15_heatmap.png\n"
     ]
    },
    {
     "name": "stderr",
     "output_type": "stream",
     "text": [
      "Clipping input data to the valid range for imshow with RGB data ([0..1] for floats or [0..255] for integers).\n"
     ]
    },
    {
     "name": "stdout",
     "output_type": "stream",
     "text": [
      "Saved ../experiments/results/exp_131_s1/splits_2/heatmaps/F033a22_heatmap.png\n"
     ]
    },
    {
     "name": "stderr",
     "output_type": "stream",
     "text": [
      "Clipping input data to the valid range for imshow with RGB data ([0..1] for floats or [0..255] for integers).\n"
     ]
    },
    {
     "name": "stdout",
     "output_type": "stream",
     "text": [
      "Saved ../experiments/results/exp_131_s1/splits_2/heatmaps/F033a27_heatmap.png\n"
     ]
    },
    {
     "name": "stderr",
     "output_type": "stream",
     "text": [
      "Clipping input data to the valid range for imshow with RGB data ([0..1] for floats or [0..255] for integers).\n"
     ]
    },
    {
     "name": "stdout",
     "output_type": "stream",
     "text": [
      "Saved ../experiments/results/exp_131_s1/splits_2/heatmaps/F033a29_heatmap.png\n"
     ]
    },
    {
     "name": "stderr",
     "output_type": "stream",
     "text": [
      "Clipping input data to the valid range for imshow with RGB data ([0..1] for floats or [0..255] for integers).\n"
     ]
    },
    {
     "name": "stdout",
     "output_type": "stream",
     "text": [
      "Saved ../experiments/results/exp_131_s1/splits_2/heatmaps/F034a09_heatmap.png\n"
     ]
    },
    {
     "name": "stderr",
     "output_type": "stream",
     "text": [
      "Clipping input data to the valid range for imshow with RGB data ([0..1] for floats or [0..255] for integers).\n"
     ]
    },
    {
     "name": "stdout",
     "output_type": "stream",
     "text": [
      "Saved ../experiments/results/exp_131_s1/splits_2/heatmaps/F048a01_heatmap.png\n"
     ]
    },
    {
     "name": "stderr",
     "output_type": "stream",
     "text": [
      "Clipping input data to the valid range for imshow with RGB data ([0..1] for floats or [0..255] for integers).\n"
     ]
    },
    {
     "name": "stdout",
     "output_type": "stream",
     "text": [
      "Saved ../experiments/results/exp_131_s1/splits_2/heatmaps/F050a02_heatmap.png\n"
     ]
    },
    {
     "name": "stderr",
     "output_type": "stream",
     "text": [
      "Clipping input data to the valid range for imshow with RGB data ([0..1] for floats or [0..255] for integers).\n"
     ]
    },
    {
     "name": "stdout",
     "output_type": "stream",
     "text": [
      "Saved ../experiments/results/exp_131_s1/splits_2/heatmaps/F052a03_heatmap.png\n"
     ]
    },
    {
     "name": "stderr",
     "output_type": "stream",
     "text": [
      "Clipping input data to the valid range for imshow with RGB data ([0..1] for floats or [0..255] for integers).\n"
     ]
    },
    {
     "name": "stdout",
     "output_type": "stream",
     "text": [
      "Saved ../experiments/results/exp_131_s1/splits_2/heatmaps/F052a10_heatmap.png\n"
     ]
    },
    {
     "name": "stderr",
     "output_type": "stream",
     "text": [
      "Clipping input data to the valid range for imshow with RGB data ([0..1] for floats or [0..255] for integers).\n"
     ]
    },
    {
     "name": "stdout",
     "output_type": "stream",
     "text": [
      "Saved ../experiments/results/exp_131_s1/splits_2/heatmaps/F052a16_heatmap.png\n"
     ]
    },
    {
     "name": "stderr",
     "output_type": "stream",
     "text": [
      "Clipping input data to the valid range for imshow with RGB data ([0..1] for floats or [0..255] for integers).\n"
     ]
    },
    {
     "name": "stdout",
     "output_type": "stream",
     "text": [
      "Saved ../experiments/results/exp_131_s1/splits_2/heatmaps/F053a16_heatmap.png\n"
     ]
    },
    {
     "name": "stderr",
     "output_type": "stream",
     "text": [
      "Clipping input data to the valid range for imshow with RGB data ([0..1] for floats or [0..255] for integers).\n"
     ]
    },
    {
     "name": "stdout",
     "output_type": "stream",
     "text": [
      "Saved ../experiments/results/exp_131_s1/splits_2/heatmaps/F056a05_heatmap.png\n"
     ]
    },
    {
     "name": "stderr",
     "output_type": "stream",
     "text": [
      "Clipping input data to the valid range for imshow with RGB data ([0..1] for floats or [0..255] for integers).\n"
     ]
    },
    {
     "name": "stdout",
     "output_type": "stream",
     "text": [
      "Saved ../experiments/results/exp_131_s1/splits_2/heatmaps/F056a08_heatmap.png\n"
     ]
    },
    {
     "name": "stderr",
     "output_type": "stream",
     "text": [
      "Clipping input data to the valid range for imshow with RGB data ([0..1] for floats or [0..255] for integers).\n"
     ]
    },
    {
     "name": "stdout",
     "output_type": "stream",
     "text": [
      "Saved ../experiments/results/exp_131_s1/splits_2/heatmaps/F058a01_heatmap.png\n"
     ]
    },
    {
     "name": "stderr",
     "output_type": "stream",
     "text": [
      "Clipping input data to the valid range for imshow with RGB data ([0..1] for floats or [0..255] for integers).\n"
     ]
    },
    {
     "name": "stdout",
     "output_type": "stream",
     "text": [
      "Saved ../experiments/results/exp_131_s1/splits_2/heatmaps/F058a02_heatmap.png\n"
     ]
    },
    {
     "name": "stderr",
     "output_type": "stream",
     "text": [
      "Clipping input data to the valid range for imshow with RGB data ([0..1] for floats or [0..255] for integers).\n"
     ]
    },
    {
     "name": "stdout",
     "output_type": "stream",
     "text": [
      "Saved ../experiments/results/exp_131_s1/splits_2/heatmaps/N003a002_heatmap.png\n"
     ]
    },
    {
     "name": "stderr",
     "output_type": "stream",
     "text": [
      "Clipping input data to the valid range for imshow with RGB data ([0..1] for floats or [0..255] for integers).\n"
     ]
    },
    {
     "name": "stdout",
     "output_type": "stream",
     "text": [
      "Saved ../experiments/results/exp_131_s1/splits_2/heatmaps/N004a007_heatmap.png\n"
     ]
    },
    {
     "name": "stderr",
     "output_type": "stream",
     "text": [
      "Clipping input data to the valid range for imshow with RGB data ([0..1] for floats or [0..255] for integers).\n"
     ]
    },
    {
     "name": "stdout",
     "output_type": "stream",
     "text": [
      "Saved ../experiments/results/exp_131_s1/splits_2/heatmaps/N004a011_heatmap.png\n"
     ]
    },
    {
     "name": "stderr",
     "output_type": "stream",
     "text": [
      "Clipping input data to the valid range for imshow with RGB data ([0..1] for floats or [0..255] for integers).\n"
     ]
    },
    {
     "name": "stdout",
     "output_type": "stream",
     "text": [
      "Saved ../experiments/results/exp_131_s1/splits_2/heatmaps/N004a013_heatmap.png\n"
     ]
    },
    {
     "name": "stderr",
     "output_type": "stream",
     "text": [
      "Clipping input data to the valid range for imshow with RGB data ([0..1] for floats or [0..255] for integers).\n"
     ]
    },
    {
     "name": "stdout",
     "output_type": "stream",
     "text": [
      "Saved ../experiments/results/exp_131_s1/splits_2/heatmaps/N004a021_heatmap.png\n"
     ]
    },
    {
     "name": "stderr",
     "output_type": "stream",
     "text": [
      "Clipping input data to the valid range for imshow with RGB data ([0..1] for floats or [0..255] for integers).\n"
     ]
    },
    {
     "name": "stdout",
     "output_type": "stream",
     "text": [
      "Saved ../experiments/results/exp_131_s1/splits_2/heatmaps/N004a023_heatmap.png\n"
     ]
    },
    {
     "name": "stderr",
     "output_type": "stream",
     "text": [
      "Clipping input data to the valid range for imshow with RGB data ([0..1] for floats or [0..255] for integers).\n"
     ]
    },
    {
     "name": "stdout",
     "output_type": "stream",
     "text": [
      "Saved ../experiments/results/exp_131_s1/splits_2/heatmaps/N004a029_heatmap.png\n"
     ]
    },
    {
     "name": "stderr",
     "output_type": "stream",
     "text": [
      "Clipping input data to the valid range for imshow with RGB data ([0..1] for floats or [0..255] for integers).\n"
     ]
    },
    {
     "name": "stdout",
     "output_type": "stream",
     "text": [
      "Saved ../experiments/results/exp_131_s1/splits_2/heatmaps/N004a037_heatmap.png\n"
     ]
    },
    {
     "name": "stderr",
     "output_type": "stream",
     "text": [
      "Clipping input data to the valid range for imshow with RGB data ([0..1] for floats or [0..255] for integers).\n"
     ]
    },
    {
     "name": "stdout",
     "output_type": "stream",
     "text": [
      "Saved ../experiments/results/exp_131_s1/splits_2/heatmaps/N004a045_heatmap.png\n"
     ]
    },
    {
     "name": "stderr",
     "output_type": "stream",
     "text": [
      "Clipping input data to the valid range for imshow with RGB data ([0..1] for floats or [0..255] for integers).\n"
     ]
    },
    {
     "name": "stdout",
     "output_type": "stream",
     "text": [
      "Saved ../experiments/results/exp_131_s1/splits_2/heatmaps/N004a062_heatmap.png\n"
     ]
    },
    {
     "name": "stderr",
     "output_type": "stream",
     "text": [
      "Clipping input data to the valid range for imshow with RGB data ([0..1] for floats or [0..255] for integers).\n"
     ]
    },
    {
     "name": "stdout",
     "output_type": "stream",
     "text": [
      "Saved ../experiments/results/exp_131_s1/splits_2/heatmaps/N004a070_heatmap.png\n"
     ]
    },
    {
     "name": "stderr",
     "output_type": "stream",
     "text": [
      "Clipping input data to the valid range for imshow with RGB data ([0..1] for floats or [0..255] for integers).\n"
     ]
    },
    {
     "name": "stdout",
     "output_type": "stream",
     "text": [
      "Saved ../experiments/results/exp_131_s1/splits_2/heatmaps/N004a078_heatmap.png\n"
     ]
    },
    {
     "name": "stderr",
     "output_type": "stream",
     "text": [
      "Clipping input data to the valid range for imshow with RGB data ([0..1] for floats or [0..255] for integers).\n"
     ]
    },
    {
     "name": "stdout",
     "output_type": "stream",
     "text": [
      "Saved ../experiments/results/exp_131_s1/splits_2/heatmaps/N004a099_heatmap.png\n"
     ]
    },
    {
     "name": "stderr",
     "output_type": "stream",
     "text": [
      "Clipping input data to the valid range for imshow with RGB data ([0..1] for floats or [0..255] for integers).\n"
     ]
    },
    {
     "name": "stdout",
     "output_type": "stream",
     "text": [
      "Saved ../experiments/results/exp_131_s1/splits_2/heatmaps/N004a107_heatmap.png\n"
     ]
    },
    {
     "name": "stderr",
     "output_type": "stream",
     "text": [
      "Clipping input data to the valid range for imshow with RGB data ([0..1] for floats or [0..255] for integers).\n"
     ]
    },
    {
     "name": "stdout",
     "output_type": "stream",
     "text": [
      "Saved ../experiments/results/exp_131_s1/splits_2/heatmaps/N004a109_heatmap.png\n"
     ]
    },
    {
     "name": "stderr",
     "output_type": "stream",
     "text": [
      "Clipping input data to the valid range for imshow with RGB data ([0..1] for floats or [0..255] for integers).\n"
     ]
    },
    {
     "name": "stdout",
     "output_type": "stream",
     "text": [
      "Saved ../experiments/results/exp_131_s1/splits_2/heatmaps/N004a119_heatmap.png\n"
     ]
    },
    {
     "name": "stderr",
     "output_type": "stream",
     "text": [
      "Clipping input data to the valid range for imshow with RGB data ([0..1] for floats or [0..255] for integers).\n"
     ]
    },
    {
     "name": "stdout",
     "output_type": "stream",
     "text": [
      "Saved ../experiments/results/exp_131_s1/splits_2/heatmaps/N004a126_heatmap.png\n"
     ]
    },
    {
     "name": "stderr",
     "output_type": "stream",
     "text": [
      "Clipping input data to the valid range for imshow with RGB data ([0..1] for floats or [0..255] for integers).\n"
     ]
    },
    {
     "name": "stdout",
     "output_type": "stream",
     "text": [
      "Saved ../experiments/results/exp_131_s1/splits_2/heatmaps/N004a130_heatmap.png\n"
     ]
    },
    {
     "name": "stderr",
     "output_type": "stream",
     "text": [
      "Clipping input data to the valid range for imshow with RGB data ([0..1] for floats or [0..255] for integers).\n"
     ]
    },
    {
     "name": "stdout",
     "output_type": "stream",
     "text": [
      "Saved ../experiments/results/exp_131_s1/splits_2/heatmaps/N004a132_heatmap.png\n"
     ]
    },
    {
     "name": "stderr",
     "output_type": "stream",
     "text": [
      "Clipping input data to the valid range for imshow with RGB data ([0..1] for floats or [0..255] for integers).\n"
     ]
    },
    {
     "name": "stdout",
     "output_type": "stream",
     "text": [
      "Saved ../experiments/results/exp_131_s1/splits_2/heatmaps/N005a005_heatmap.png\n"
     ]
    },
    {
     "name": "stderr",
     "output_type": "stream",
     "text": [
      "Clipping input data to the valid range for imshow with RGB data ([0..1] for floats or [0..255] for integers).\n"
     ]
    },
    {
     "name": "stdout",
     "output_type": "stream",
     "text": [
      "Saved ../experiments/results/exp_131_s1/splits_2/heatmaps/N005a007_heatmap.png\n"
     ]
    },
    {
     "name": "stderr",
     "output_type": "stream",
     "text": [
      "Clipping input data to the valid range for imshow with RGB data ([0..1] for floats or [0..255] for integers).\n"
     ]
    },
    {
     "name": "stdout",
     "output_type": "stream",
     "text": [
      "Saved ../experiments/results/exp_131_s1/splits_2/heatmaps/N005a009_heatmap.png\n"
     ]
    },
    {
     "name": "stderr",
     "output_type": "stream",
     "text": [
      "Clipping input data to the valid range for imshow with RGB data ([0..1] for floats or [0..255] for integers).\n"
     ]
    },
    {
     "name": "stdout",
     "output_type": "stream",
     "text": [
      "Saved ../experiments/results/exp_131_s1/splits_2/heatmaps/N005a010_heatmap.png\n"
     ]
    },
    {
     "name": "stderr",
     "output_type": "stream",
     "text": [
      "Clipping input data to the valid range for imshow with RGB data ([0..1] for floats or [0..255] for integers).\n"
     ]
    },
    {
     "name": "stdout",
     "output_type": "stream",
     "text": [
      "Saved ../experiments/results/exp_131_s1/splits_2/heatmaps/N005a013_heatmap.png\n"
     ]
    },
    {
     "name": "stderr",
     "output_type": "stream",
     "text": [
      "Clipping input data to the valid range for imshow with RGB data ([0..1] for floats or [0..255] for integers).\n"
     ]
    },
    {
     "name": "stdout",
     "output_type": "stream",
     "text": [
      "Saved ../experiments/results/exp_131_s1/splits_2/heatmaps/N005a020_heatmap.png\n"
     ]
    },
    {
     "name": "stderr",
     "output_type": "stream",
     "text": [
      "Clipping input data to the valid range for imshow with RGB data ([0..1] for floats or [0..255] for integers).\n"
     ]
    },
    {
     "name": "stdout",
     "output_type": "stream",
     "text": [
      "Saved ../experiments/results/exp_131_s1/splits_2/heatmaps/N005a021_heatmap.png\n"
     ]
    },
    {
     "name": "stderr",
     "output_type": "stream",
     "text": [
      "Clipping input data to the valid range for imshow with RGB data ([0..1] for floats or [0..255] for integers).\n"
     ]
    },
    {
     "name": "stdout",
     "output_type": "stream",
     "text": [
      "Saved ../experiments/results/exp_131_s1/splits_2/heatmaps/N009a004_heatmap.png\n"
     ]
    },
    {
     "name": "stderr",
     "output_type": "stream",
     "text": [
      "Clipping input data to the valid range for imshow with RGB data ([0..1] for floats or [0..255] for integers).\n"
     ]
    },
    {
     "name": "stdout",
     "output_type": "stream",
     "text": [
      "Saved ../experiments/results/exp_131_s1/splits_2/heatmaps/N011a002_heatmap.png\n"
     ]
    },
    {
     "name": "stderr",
     "output_type": "stream",
     "text": [
      "Clipping input data to the valid range for imshow with RGB data ([0..1] for floats or [0..255] for integers).\n"
     ]
    },
    {
     "name": "stdout",
     "output_type": "stream",
     "text": [
      "Saved ../experiments/results/exp_131_s1/splits_2/heatmaps/N011a003_heatmap.png\n"
     ]
    },
    {
     "name": "stderr",
     "output_type": "stream",
     "text": [
      "Clipping input data to the valid range for imshow with RGB data ([0..1] for floats or [0..255] for integers).\n"
     ]
    },
    {
     "name": "stdout",
     "output_type": "stream",
     "text": [
      "Saved ../experiments/results/exp_131_s1/splits_2/heatmaps/N012a002_heatmap.png\n"
     ]
    },
    {
     "name": "stderr",
     "output_type": "stream",
     "text": [
      "Clipping input data to the valid range for imshow with RGB data ([0..1] for floats or [0..255] for integers).\n"
     ]
    },
    {
     "name": "stdout",
     "output_type": "stream",
     "text": [
      "Saved ../experiments/results/exp_131_s1/splits_2/heatmaps/N012a005_heatmap.png\n"
     ]
    },
    {
     "name": "stderr",
     "output_type": "stream",
     "text": [
      "Clipping input data to the valid range for imshow with RGB data ([0..1] for floats or [0..255] for integers).\n"
     ]
    },
    {
     "name": "stdout",
     "output_type": "stream",
     "text": [
      "Saved ../experiments/results/exp_131_s1/splits_2/heatmaps/N012a010_heatmap.png\n",
      "\n"
     ]
    },
    {
     "name": "stderr",
     "output_type": "stream",
     "text": [
      "Clipping input data to the valid range for imshow with RGB data ([0..1] for floats or [0..255] for integers).\n"
     ]
    },
    {
     "name": "stdout",
     "output_type": "stream",
     "text": [
      "Saved ../experiments/results/exp_131_s1/splits_3/heatmaps/F006a05_heatmap.png\n"
     ]
    },
    {
     "name": "stderr",
     "output_type": "stream",
     "text": [
      "Clipping input data to the valid range for imshow with RGB data ([0..1] for floats or [0..255] for integers).\n"
     ]
    },
    {
     "name": "stdout",
     "output_type": "stream",
     "text": [
      "Saved ../experiments/results/exp_131_s1/splits_3/heatmaps/F009a03_heatmap.png\n"
     ]
    },
    {
     "name": "stderr",
     "output_type": "stream",
     "text": [
      "Clipping input data to the valid range for imshow with RGB data ([0..1] for floats or [0..255] for integers).\n"
     ]
    },
    {
     "name": "stdout",
     "output_type": "stream",
     "text": [
      "Saved ../experiments/results/exp_131_s1/splits_3/heatmaps/F010a04_heatmap.png\n"
     ]
    },
    {
     "name": "stderr",
     "output_type": "stream",
     "text": [
      "Clipping input data to the valid range for imshow with RGB data ([0..1] for floats or [0..255] for integers).\n"
     ]
    },
    {
     "name": "stdout",
     "output_type": "stream",
     "text": [
      "Saved ../experiments/results/exp_131_s1/splits_3/heatmaps/F011a02_heatmap.png\n"
     ]
    },
    {
     "name": "stderr",
     "output_type": "stream",
     "text": [
      "Clipping input data to the valid range for imshow with RGB data ([0..1] for floats or [0..255] for integers).\n"
     ]
    },
    {
     "name": "stdout",
     "output_type": "stream",
     "text": [
      "Saved ../experiments/results/exp_131_s1/splits_3/heatmaps/F012a06_heatmap.png\n"
     ]
    },
    {
     "name": "stderr",
     "output_type": "stream",
     "text": [
      "Clipping input data to the valid range for imshow with RGB data ([0..1] for floats or [0..255] for integers).\n"
     ]
    },
    {
     "name": "stdout",
     "output_type": "stream",
     "text": [
      "Saved ../experiments/results/exp_131_s1/splits_3/heatmaps/F013a02_heatmap.png\n"
     ]
    },
    {
     "name": "stderr",
     "output_type": "stream",
     "text": [
      "Clipping input data to the valid range for imshow with RGB data ([0..1] for floats or [0..255] for integers).\n"
     ]
    },
    {
     "name": "stdout",
     "output_type": "stream",
     "text": [
      "Saved ../experiments/results/exp_131_s1/splits_3/heatmaps/F013a10_heatmap.png\n"
     ]
    },
    {
     "name": "stderr",
     "output_type": "stream",
     "text": [
      "Clipping input data to the valid range for imshow with RGB data ([0..1] for floats or [0..255] for integers).\n"
     ]
    },
    {
     "name": "stdout",
     "output_type": "stream",
     "text": [
      "Saved ../experiments/results/exp_131_s1/splits_3/heatmaps/F013a12_heatmap.png\n"
     ]
    },
    {
     "name": "stderr",
     "output_type": "stream",
     "text": [
      "Clipping input data to the valid range for imshow with RGB data ([0..1] for floats or [0..255] for integers).\n"
     ]
    },
    {
     "name": "stdout",
     "output_type": "stream",
     "text": [
      "Saved ../experiments/results/exp_131_s1/splits_3/heatmaps/F013a15_heatmap.png\n"
     ]
    },
    {
     "name": "stderr",
     "output_type": "stream",
     "text": [
      "Clipping input data to the valid range for imshow with RGB data ([0..1] for floats or [0..255] for integers).\n"
     ]
    },
    {
     "name": "stdout",
     "output_type": "stream",
     "text": [
      "Saved ../experiments/results/exp_131_s1/splits_3/heatmaps/F015a01_heatmap.png\n"
     ]
    },
    {
     "name": "stderr",
     "output_type": "stream",
     "text": [
      "Clipping input data to the valid range for imshow with RGB data ([0..1] for floats or [0..255] for integers).\n"
     ]
    },
    {
     "name": "stdout",
     "output_type": "stream",
     "text": [
      "Saved ../experiments/results/exp_131_s1/splits_3/heatmaps/F017a10_heatmap.png\n"
     ]
    },
    {
     "name": "stderr",
     "output_type": "stream",
     "text": [
      "Clipping input data to the valid range for imshow with RGB data ([0..1] for floats or [0..255] for integers).\n"
     ]
    },
    {
     "name": "stdout",
     "output_type": "stream",
     "text": [
      "Saved ../experiments/results/exp_131_s1/splits_3/heatmaps/F018a10_heatmap.png\n"
     ]
    },
    {
     "name": "stderr",
     "output_type": "stream",
     "text": [
      "Clipping input data to the valid range for imshow with RGB data ([0..1] for floats or [0..255] for integers).\n"
     ]
    },
    {
     "name": "stdout",
     "output_type": "stream",
     "text": [
      "Saved ../experiments/results/exp_131_s1/splits_3/heatmaps/F030a06_heatmap.png\n"
     ]
    },
    {
     "name": "stderr",
     "output_type": "stream",
     "text": [
      "Clipping input data to the valid range for imshow with RGB data ([0..1] for floats or [0..255] for integers).\n"
     ]
    },
    {
     "name": "stdout",
     "output_type": "stream",
     "text": [
      "Saved ../experiments/results/exp_131_s1/splits_3/heatmaps/F030a08_heatmap.png\n"
     ]
    },
    {
     "name": "stderr",
     "output_type": "stream",
     "text": [
      "Clipping input data to the valid range for imshow with RGB data ([0..1] for floats or [0..255] for integers).\n"
     ]
    },
    {
     "name": "stdout",
     "output_type": "stream",
     "text": [
      "Saved ../experiments/results/exp_131_s1/splits_3/heatmaps/F030a10_heatmap.png\n"
     ]
    },
    {
     "name": "stderr",
     "output_type": "stream",
     "text": [
      "Clipping input data to the valid range for imshow with RGB data ([0..1] for floats or [0..255] for integers).\n"
     ]
    },
    {
     "name": "stdout",
     "output_type": "stream",
     "text": [
      "Saved ../experiments/results/exp_131_s1/splits_3/heatmaps/F030a17_heatmap.png\n"
     ]
    },
    {
     "name": "stderr",
     "output_type": "stream",
     "text": [
      "Clipping input data to the valid range for imshow with RGB data ([0..1] for floats or [0..255] for integers).\n"
     ]
    },
    {
     "name": "stdout",
     "output_type": "stream",
     "text": [
      "Saved ../experiments/results/exp_131_s1/splits_3/heatmaps/F033a07_heatmap.png\n"
     ]
    },
    {
     "name": "stderr",
     "output_type": "stream",
     "text": [
      "Clipping input data to the valid range for imshow with RGB data ([0..1] for floats or [0..255] for integers).\n"
     ]
    },
    {
     "name": "stdout",
     "output_type": "stream",
     "text": [
      "Saved ../experiments/results/exp_131_s1/splits_3/heatmaps/F033a13_heatmap.png\n"
     ]
    },
    {
     "name": "stderr",
     "output_type": "stream",
     "text": [
      "Clipping input data to the valid range for imshow with RGB data ([0..1] for floats or [0..255] for integers).\n"
     ]
    },
    {
     "name": "stdout",
     "output_type": "stream",
     "text": [
      "Saved ../experiments/results/exp_131_s1/splits_3/heatmaps/F033a21_heatmap.png\n"
     ]
    },
    {
     "name": "stderr",
     "output_type": "stream",
     "text": [
      "Clipping input data to the valid range for imshow with RGB data ([0..1] for floats or [0..255] for integers).\n"
     ]
    },
    {
     "name": "stdout",
     "output_type": "stream",
     "text": [
      "Saved ../experiments/results/exp_131_s1/splits_3/heatmaps/F033a26_heatmap.png\n"
     ]
    },
    {
     "name": "stderr",
     "output_type": "stream",
     "text": [
      "Clipping input data to the valid range for imshow with RGB data ([0..1] for floats or [0..255] for integers).\n"
     ]
    },
    {
     "name": "stdout",
     "output_type": "stream",
     "text": [
      "Saved ../experiments/results/exp_131_s1/splits_3/heatmaps/F034a09_heatmap.png\n"
     ]
    },
    {
     "name": "stderr",
     "output_type": "stream",
     "text": [
      "Clipping input data to the valid range for imshow with RGB data ([0..1] for floats or [0..255] for integers).\n"
     ]
    },
    {
     "name": "stdout",
     "output_type": "stream",
     "text": [
      "Saved ../experiments/results/exp_131_s1/splits_3/heatmaps/F034a10_heatmap.png\n"
     ]
    },
    {
     "name": "stderr",
     "output_type": "stream",
     "text": [
      "Clipping input data to the valid range for imshow with RGB data ([0..1] for floats or [0..255] for integers).\n"
     ]
    },
    {
     "name": "stdout",
     "output_type": "stream",
     "text": [
      "Saved ../experiments/results/exp_131_s1/splits_3/heatmaps/F052a10_heatmap.png\n"
     ]
    },
    {
     "name": "stderr",
     "output_type": "stream",
     "text": [
      "Clipping input data to the valid range for imshow with RGB data ([0..1] for floats or [0..255] for integers).\n"
     ]
    },
    {
     "name": "stdout",
     "output_type": "stream",
     "text": [
      "Saved ../experiments/results/exp_131_s1/splits_3/heatmaps/F052a12_heatmap.png\n"
     ]
    },
    {
     "name": "stderr",
     "output_type": "stream",
     "text": [
      "Clipping input data to the valid range for imshow with RGB data ([0..1] for floats or [0..255] for integers).\n"
     ]
    },
    {
     "name": "stdout",
     "output_type": "stream",
     "text": [
      "Saved ../experiments/results/exp_131_s1/splits_3/heatmaps/F052a20_heatmap.png\n"
     ]
    },
    {
     "name": "stderr",
     "output_type": "stream",
     "text": [
      "Clipping input data to the valid range for imshow with RGB data ([0..1] for floats or [0..255] for integers).\n"
     ]
    },
    {
     "name": "stdout",
     "output_type": "stream",
     "text": [
      "Saved ../experiments/results/exp_131_s1/splits_3/heatmaps/F053a01_heatmap.png\n"
     ]
    },
    {
     "name": "stderr",
     "output_type": "stream",
     "text": [
      "Clipping input data to the valid range for imshow with RGB data ([0..1] for floats or [0..255] for integers).\n"
     ]
    },
    {
     "name": "stdout",
     "output_type": "stream",
     "text": [
      "Saved ../experiments/results/exp_131_s1/splits_3/heatmaps/F053a04_heatmap.png\n"
     ]
    },
    {
     "name": "stderr",
     "output_type": "stream",
     "text": [
      "Clipping input data to the valid range for imshow with RGB data ([0..1] for floats or [0..255] for integers).\n"
     ]
    },
    {
     "name": "stdout",
     "output_type": "stream",
     "text": [
      "Saved ../experiments/results/exp_131_s1/splits_3/heatmaps/F053a17_heatmap.png\n"
     ]
    },
    {
     "name": "stderr",
     "output_type": "stream",
     "text": [
      "Clipping input data to the valid range for imshow with RGB data ([0..1] for floats or [0..255] for integers).\n"
     ]
    },
    {
     "name": "stdout",
     "output_type": "stream",
     "text": [
      "Saved ../experiments/results/exp_131_s1/splits_3/heatmaps/F056a17_heatmap.png\n"
     ]
    },
    {
     "name": "stderr",
     "output_type": "stream",
     "text": [
      "Clipping input data to the valid range for imshow with RGB data ([0..1] for floats or [0..255] for integers).\n"
     ]
    },
    {
     "name": "stdout",
     "output_type": "stream",
     "text": [
      "Saved ../experiments/results/exp_131_s1/splits_3/heatmaps/F056a18_heatmap.png\n"
     ]
    },
    {
     "name": "stderr",
     "output_type": "stream",
     "text": [
      "Clipping input data to the valid range for imshow with RGB data ([0..1] for floats or [0..255] for integers).\n"
     ]
    },
    {
     "name": "stdout",
     "output_type": "stream",
     "text": [
      "Saved ../experiments/results/exp_131_s1/splits_3/heatmaps/F058a01_heatmap.png\n"
     ]
    },
    {
     "name": "stderr",
     "output_type": "stream",
     "text": [
      "Clipping input data to the valid range for imshow with RGB data ([0..1] for floats or [0..255] for integers).\n"
     ]
    },
    {
     "name": "stdout",
     "output_type": "stream",
     "text": [
      "Saved ../experiments/results/exp_131_s1/splits_3/heatmaps/N001a002_heatmap.png\n"
     ]
    },
    {
     "name": "stderr",
     "output_type": "stream",
     "text": [
      "Clipping input data to the valid range for imshow with RGB data ([0..1] for floats or [0..255] for integers).\n"
     ]
    },
    {
     "name": "stdout",
     "output_type": "stream",
     "text": [
      "Saved ../experiments/results/exp_131_s1/splits_3/heatmaps/N004a008_heatmap.png\n"
     ]
    },
    {
     "name": "stderr",
     "output_type": "stream",
     "text": [
      "Clipping input data to the valid range for imshow with RGB data ([0..1] for floats or [0..255] for integers).\n"
     ]
    },
    {
     "name": "stdout",
     "output_type": "stream",
     "text": [
      "Saved ../experiments/results/exp_131_s1/splits_3/heatmaps/N004a009_heatmap.png\n"
     ]
    },
    {
     "name": "stderr",
     "output_type": "stream",
     "text": [
      "Clipping input data to the valid range for imshow with RGB data ([0..1] for floats or [0..255] for integers).\n"
     ]
    },
    {
     "name": "stdout",
     "output_type": "stream",
     "text": [
      "Saved ../experiments/results/exp_131_s1/splits_3/heatmaps/N004a018_heatmap.png\n"
     ]
    },
    {
     "name": "stderr",
     "output_type": "stream",
     "text": [
      "Clipping input data to the valid range for imshow with RGB data ([0..1] for floats or [0..255] for integers).\n"
     ]
    },
    {
     "name": "stdout",
     "output_type": "stream",
     "text": [
      "Saved ../experiments/results/exp_131_s1/splits_3/heatmaps/N004a019_heatmap.png\n"
     ]
    },
    {
     "name": "stderr",
     "output_type": "stream",
     "text": [
      "Clipping input data to the valid range for imshow with RGB data ([0..1] for floats or [0..255] for integers).\n"
     ]
    },
    {
     "name": "stdout",
     "output_type": "stream",
     "text": [
      "Saved ../experiments/results/exp_131_s1/splits_3/heatmaps/N004a027_heatmap.png\n"
     ]
    },
    {
     "name": "stderr",
     "output_type": "stream",
     "text": [
      "Clipping input data to the valid range for imshow with RGB data ([0..1] for floats or [0..255] for integers).\n"
     ]
    },
    {
     "name": "stdout",
     "output_type": "stream",
     "text": [
      "Saved ../experiments/results/exp_131_s1/splits_3/heatmaps/N004a034_heatmap.png\n"
     ]
    },
    {
     "name": "stderr",
     "output_type": "stream",
     "text": [
      "Clipping input data to the valid range for imshow with RGB data ([0..1] for floats or [0..255] for integers).\n"
     ]
    },
    {
     "name": "stdout",
     "output_type": "stream",
     "text": [
      "Saved ../experiments/results/exp_131_s1/splits_3/heatmaps/N004a037_heatmap.png\n"
     ]
    },
    {
     "name": "stderr",
     "output_type": "stream",
     "text": [
      "Clipping input data to the valid range for imshow with RGB data ([0..1] for floats or [0..255] for integers).\n"
     ]
    },
    {
     "name": "stdout",
     "output_type": "stream",
     "text": [
      "Saved ../experiments/results/exp_131_s1/splits_3/heatmaps/N004a042_heatmap.png\n"
     ]
    },
    {
     "name": "stderr",
     "output_type": "stream",
     "text": [
      "Clipping input data to the valid range for imshow with RGB data ([0..1] for floats or [0..255] for integers).\n"
     ]
    },
    {
     "name": "stdout",
     "output_type": "stream",
     "text": [
      "Saved ../experiments/results/exp_131_s1/splits_3/heatmaps/N004a048_heatmap.png\n"
     ]
    },
    {
     "name": "stderr",
     "output_type": "stream",
     "text": [
      "Clipping input data to the valid range for imshow with RGB data ([0..1] for floats or [0..255] for integers).\n"
     ]
    },
    {
     "name": "stdout",
     "output_type": "stream",
     "text": [
      "Saved ../experiments/results/exp_131_s1/splits_3/heatmaps/N004a060_heatmap.png\n"
     ]
    },
    {
     "name": "stderr",
     "output_type": "stream",
     "text": [
      "Clipping input data to the valid range for imshow with RGB data ([0..1] for floats or [0..255] for integers).\n"
     ]
    },
    {
     "name": "stdout",
     "output_type": "stream",
     "text": [
      "Saved ../experiments/results/exp_131_s1/splits_3/heatmaps/N004a062_heatmap.png\n"
     ]
    },
    {
     "name": "stderr",
     "output_type": "stream",
     "text": [
      "Clipping input data to the valid range for imshow with RGB data ([0..1] for floats or [0..255] for integers).\n"
     ]
    },
    {
     "name": "stdout",
     "output_type": "stream",
     "text": [
      "Saved ../experiments/results/exp_131_s1/splits_3/heatmaps/N004a089_heatmap.png\n"
     ]
    },
    {
     "name": "stderr",
     "output_type": "stream",
     "text": [
      "Clipping input data to the valid range for imshow with RGB data ([0..1] for floats or [0..255] for integers).\n"
     ]
    },
    {
     "name": "stdout",
     "output_type": "stream",
     "text": [
      "Saved ../experiments/results/exp_131_s1/splits_3/heatmaps/N004a095_heatmap.png\n"
     ]
    },
    {
     "name": "stderr",
     "output_type": "stream",
     "text": [
      "Clipping input data to the valid range for imshow with RGB data ([0..1] for floats or [0..255] for integers).\n"
     ]
    },
    {
     "name": "stdout",
     "output_type": "stream",
     "text": [
      "Saved ../experiments/results/exp_131_s1/splits_3/heatmaps/N004a097_heatmap.png\n"
     ]
    },
    {
     "name": "stderr",
     "output_type": "stream",
     "text": [
      "Clipping input data to the valid range for imshow with RGB data ([0..1] for floats or [0..255] for integers).\n"
     ]
    },
    {
     "name": "stdout",
     "output_type": "stream",
     "text": [
      "Saved ../experiments/results/exp_131_s1/splits_3/heatmaps/N004a101_heatmap.png\n"
     ]
    },
    {
     "name": "stderr",
     "output_type": "stream",
     "text": [
      "Clipping input data to the valid range for imshow with RGB data ([0..1] for floats or [0..255] for integers).\n"
     ]
    },
    {
     "name": "stdout",
     "output_type": "stream",
     "text": [
      "Saved ../experiments/results/exp_131_s1/splits_3/heatmaps/N004a111_heatmap.png\n"
     ]
    },
    {
     "name": "stderr",
     "output_type": "stream",
     "text": [
      "Clipping input data to the valid range for imshow with RGB data ([0..1] for floats or [0..255] for integers).\n"
     ]
    },
    {
     "name": "stdout",
     "output_type": "stream",
     "text": [
      "Saved ../experiments/results/exp_131_s1/splits_3/heatmaps/N004a122_heatmap.png\n"
     ]
    },
    {
     "name": "stderr",
     "output_type": "stream",
     "text": [
      "Clipping input data to the valid range for imshow with RGB data ([0..1] for floats or [0..255] for integers).\n"
     ]
    },
    {
     "name": "stdout",
     "output_type": "stream",
     "text": [
      "Saved ../experiments/results/exp_131_s1/splits_3/heatmaps/N004a124_heatmap.png\n"
     ]
    },
    {
     "name": "stderr",
     "output_type": "stream",
     "text": [
      "Clipping input data to the valid range for imshow with RGB data ([0..1] for floats or [0..255] for integers).\n"
     ]
    },
    {
     "name": "stdout",
     "output_type": "stream",
     "text": [
      "Saved ../experiments/results/exp_131_s1/splits_3/heatmaps/N004a127_heatmap.png\n"
     ]
    },
    {
     "name": "stderr",
     "output_type": "stream",
     "text": [
      "Clipping input data to the valid range for imshow with RGB data ([0..1] for floats or [0..255] for integers).\n"
     ]
    },
    {
     "name": "stdout",
     "output_type": "stream",
     "text": [
      "Saved ../experiments/results/exp_131_s1/splits_3/heatmaps/N004a133_heatmap.png\n"
     ]
    },
    {
     "name": "stderr",
     "output_type": "stream",
     "text": [
      "Clipping input data to the valid range for imshow with RGB data ([0..1] for floats or [0..255] for integers).\n"
     ]
    },
    {
     "name": "stdout",
     "output_type": "stream",
     "text": [
      "Saved ../experiments/results/exp_131_s1/splits_3/heatmaps/N005a006_heatmap.png\n"
     ]
    },
    {
     "name": "stderr",
     "output_type": "stream",
     "text": [
      "Clipping input data to the valid range for imshow with RGB data ([0..1] for floats or [0..255] for integers).\n"
     ]
    },
    {
     "name": "stdout",
     "output_type": "stream",
     "text": [
      "Saved ../experiments/results/exp_131_s1/splits_3/heatmaps/N005a007_heatmap.png\n"
     ]
    },
    {
     "name": "stderr",
     "output_type": "stream",
     "text": [
      "Clipping input data to the valid range for imshow with RGB data ([0..1] for floats or [0..255] for integers).\n"
     ]
    },
    {
     "name": "stdout",
     "output_type": "stream",
     "text": [
      "Saved ../experiments/results/exp_131_s1/splits_3/heatmaps/N005a016_heatmap.png\n"
     ]
    },
    {
     "name": "stderr",
     "output_type": "stream",
     "text": [
      "Clipping input data to the valid range for imshow with RGB data ([0..1] for floats or [0..255] for integers).\n"
     ]
    },
    {
     "name": "stdout",
     "output_type": "stream",
     "text": [
      "Saved ../experiments/results/exp_131_s1/splits_3/heatmaps/N005a018_heatmap.png\n"
     ]
    },
    {
     "name": "stderr",
     "output_type": "stream",
     "text": [
      "Clipping input data to the valid range for imshow with RGB data ([0..1] for floats or [0..255] for integers).\n"
     ]
    },
    {
     "name": "stdout",
     "output_type": "stream",
     "text": [
      "Saved ../experiments/results/exp_131_s1/splits_3/heatmaps/N005a021_heatmap.png\n"
     ]
    },
    {
     "name": "stderr",
     "output_type": "stream",
     "text": [
      "Clipping input data to the valid range for imshow with RGB data ([0..1] for floats or [0..255] for integers).\n"
     ]
    },
    {
     "name": "stdout",
     "output_type": "stream",
     "text": [
      "Saved ../experiments/results/exp_131_s1/splits_3/heatmaps/N006a009_heatmap.png\n"
     ]
    },
    {
     "name": "stderr",
     "output_type": "stream",
     "text": [
      "Clipping input data to the valid range for imshow with RGB data ([0..1] for floats or [0..255] for integers).\n"
     ]
    },
    {
     "name": "stdout",
     "output_type": "stream",
     "text": [
      "Saved ../experiments/results/exp_131_s1/splits_3/heatmaps/N006a010_heatmap.png\n"
     ]
    },
    {
     "name": "stderr",
     "output_type": "stream",
     "text": [
      "Clipping input data to the valid range for imshow with RGB data ([0..1] for floats or [0..255] for integers).\n"
     ]
    },
    {
     "name": "stdout",
     "output_type": "stream",
     "text": [
      "Saved ../experiments/results/exp_131_s1/splits_3/heatmaps/N012a002_heatmap.png\n"
     ]
    },
    {
     "name": "stderr",
     "output_type": "stream",
     "text": [
      "Clipping input data to the valid range for imshow with RGB data ([0..1] for floats or [0..255] for integers).\n"
     ]
    },
    {
     "name": "stdout",
     "output_type": "stream",
     "text": [
      "Saved ../experiments/results/exp_131_s1/splits_3/heatmaps/N012a015_heatmap.png\n"
     ]
    },
    {
     "name": "stderr",
     "output_type": "stream",
     "text": [
      "Clipping input data to the valid range for imshow with RGB data ([0..1] for floats or [0..255] for integers).\n"
     ]
    },
    {
     "name": "stdout",
     "output_type": "stream",
     "text": [
      "Saved ../experiments/results/exp_131_s1/splits_3/heatmaps/N012a017_heatmap.png\n"
     ]
    },
    {
     "name": "stderr",
     "output_type": "stream",
     "text": [
      "Clipping input data to the valid range for imshow with RGB data ([0..1] for floats or [0..255] for integers).\n"
     ]
    },
    {
     "name": "stdout",
     "output_type": "stream",
     "text": [
      "Saved ../experiments/results/exp_131_s1/splits_3/heatmaps/N012a018_heatmap.png\n",
      "\n"
     ]
    },
    {
     "name": "stderr",
     "output_type": "stream",
     "text": [
      "Clipping input data to the valid range for imshow with RGB data ([0..1] for floats or [0..255] for integers).\n"
     ]
    },
    {
     "name": "stdout",
     "output_type": "stream",
     "text": [
      "Saved ../experiments/results/exp_131_s1/splits_4/heatmaps/F005a02_heatmap.png\n"
     ]
    },
    {
     "name": "stderr",
     "output_type": "stream",
     "text": [
      "Clipping input data to the valid range for imshow with RGB data ([0..1] for floats or [0..255] for integers).\n"
     ]
    },
    {
     "name": "stdout",
     "output_type": "stream",
     "text": [
      "Saved ../experiments/results/exp_131_s1/splits_4/heatmaps/F007a04_heatmap.png\n"
     ]
    },
    {
     "name": "stderr",
     "output_type": "stream",
     "text": [
      "Clipping input data to the valid range for imshow with RGB data ([0..1] for floats or [0..255] for integers).\n"
     ]
    },
    {
     "name": "stdout",
     "output_type": "stream",
     "text": [
      "Saved ../experiments/results/exp_131_s1/splits_4/heatmaps/F007a08_heatmap.png\n"
     ]
    },
    {
     "name": "stderr",
     "output_type": "stream",
     "text": [
      "Clipping input data to the valid range for imshow with RGB data ([0..1] for floats or [0..255] for integers).\n"
     ]
    },
    {
     "name": "stdout",
     "output_type": "stream",
     "text": [
      "Saved ../experiments/results/exp_131_s1/splits_4/heatmaps/F007a16_heatmap.png\n"
     ]
    },
    {
     "name": "stderr",
     "output_type": "stream",
     "text": [
      "Clipping input data to the valid range for imshow with RGB data ([0..1] for floats or [0..255] for integers).\n"
     ]
    },
    {
     "name": "stdout",
     "output_type": "stream",
     "text": [
      "Saved ../experiments/results/exp_131_s1/splits_4/heatmaps/F007a18_heatmap.png\n"
     ]
    },
    {
     "name": "stderr",
     "output_type": "stream",
     "text": [
      "Clipping input data to the valid range for imshow with RGB data ([0..1] for floats or [0..255] for integers).\n"
     ]
    },
    {
     "name": "stdout",
     "output_type": "stream",
     "text": [
      "Saved ../experiments/results/exp_131_s1/splits_4/heatmaps/F011a01_heatmap.png\n"
     ]
    },
    {
     "name": "stderr",
     "output_type": "stream",
     "text": [
      "Clipping input data to the valid range for imshow with RGB data ([0..1] for floats or [0..255] for integers).\n"
     ]
    },
    {
     "name": "stdout",
     "output_type": "stream",
     "text": [
      "Saved ../experiments/results/exp_131_s1/splits_4/heatmaps/F011a02_heatmap.png\n"
     ]
    },
    {
     "name": "stderr",
     "output_type": "stream",
     "text": [
      "Clipping input data to the valid range for imshow with RGB data ([0..1] for floats or [0..255] for integers).\n"
     ]
    },
    {
     "name": "stdout",
     "output_type": "stream",
     "text": [
      "Saved ../experiments/results/exp_131_s1/splits_4/heatmaps/F012a02_heatmap.png\n"
     ]
    },
    {
     "name": "stderr",
     "output_type": "stream",
     "text": [
      "Clipping input data to the valid range for imshow with RGB data ([0..1] for floats or [0..255] for integers).\n"
     ]
    },
    {
     "name": "stdout",
     "output_type": "stream",
     "text": [
      "Saved ../experiments/results/exp_131_s1/splits_4/heatmaps/F013a01_heatmap.png\n"
     ]
    },
    {
     "name": "stderr",
     "output_type": "stream",
     "text": [
      "Clipping input data to the valid range for imshow with RGB data ([0..1] for floats or [0..255] for integers).\n"
     ]
    },
    {
     "name": "stdout",
     "output_type": "stream",
     "text": [
      "Saved ../experiments/results/exp_131_s1/splits_4/heatmaps/F013a02_heatmap.png\n"
     ]
    },
    {
     "name": "stderr",
     "output_type": "stream",
     "text": [
      "Clipping input data to the valid range for imshow with RGB data ([0..1] for floats or [0..255] for integers).\n"
     ]
    },
    {
     "name": "stdout",
     "output_type": "stream",
     "text": [
      "Saved ../experiments/results/exp_131_s1/splits_4/heatmaps/F013a05_heatmap.png\n"
     ]
    },
    {
     "name": "stderr",
     "output_type": "stream",
     "text": [
      "Clipping input data to the valid range for imshow with RGB data ([0..1] for floats or [0..255] for integers).\n"
     ]
    },
    {
     "name": "stdout",
     "output_type": "stream",
     "text": [
      "Saved ../experiments/results/exp_131_s1/splits_4/heatmaps/F013a11_heatmap.png\n"
     ]
    },
    {
     "name": "stderr",
     "output_type": "stream",
     "text": [
      "Clipping input data to the valid range for imshow with RGB data ([0..1] for floats or [0..255] for integers).\n"
     ]
    },
    {
     "name": "stdout",
     "output_type": "stream",
     "text": [
      "Saved ../experiments/results/exp_131_s1/splits_4/heatmaps/F018a04_heatmap.png\n"
     ]
    },
    {
     "name": "stderr",
     "output_type": "stream",
     "text": [
      "Clipping input data to the valid range for imshow with RGB data ([0..1] for floats or [0..255] for integers).\n"
     ]
    },
    {
     "name": "stdout",
     "output_type": "stream",
     "text": [
      "Saved ../experiments/results/exp_131_s1/splits_4/heatmaps/F030a02_heatmap.png\n"
     ]
    },
    {
     "name": "stderr",
     "output_type": "stream",
     "text": [
      "Clipping input data to the valid range for imshow with RGB data ([0..1] for floats or [0..255] for integers).\n"
     ]
    },
    {
     "name": "stdout",
     "output_type": "stream",
     "text": [
      "Saved ../experiments/results/exp_131_s1/splits_4/heatmaps/F030a11_heatmap.png\n"
     ]
    },
    {
     "name": "stderr",
     "output_type": "stream",
     "text": [
      "Clipping input data to the valid range for imshow with RGB data ([0..1] for floats or [0..255] for integers).\n"
     ]
    },
    {
     "name": "stdout",
     "output_type": "stream",
     "text": [
      "Saved ../experiments/results/exp_131_s1/splits_4/heatmaps/F030a14_heatmap.png\n"
     ]
    },
    {
     "name": "stderr",
     "output_type": "stream",
     "text": [
      "Clipping input data to the valid range for imshow with RGB data ([0..1] for floats or [0..255] for integers).\n"
     ]
    },
    {
     "name": "stdout",
     "output_type": "stream",
     "text": [
      "Saved ../experiments/results/exp_131_s1/splits_4/heatmaps/F033a01_heatmap.png\n"
     ]
    },
    {
     "name": "stderr",
     "output_type": "stream",
     "text": [
      "Clipping input data to the valid range for imshow with RGB data ([0..1] for floats or [0..255] for integers).\n"
     ]
    },
    {
     "name": "stdout",
     "output_type": "stream",
     "text": [
      "Saved ../experiments/results/exp_131_s1/splits_4/heatmaps/F033a14_heatmap.png\n"
     ]
    },
    {
     "name": "stderr",
     "output_type": "stream",
     "text": [
      "Clipping input data to the valid range for imshow with RGB data ([0..1] for floats or [0..255] for integers).\n"
     ]
    },
    {
     "name": "stdout",
     "output_type": "stream",
     "text": [
      "Saved ../experiments/results/exp_131_s1/splits_4/heatmaps/F033a18_heatmap.png\n"
     ]
    },
    {
     "name": "stderr",
     "output_type": "stream",
     "text": [
      "Clipping input data to the valid range for imshow with RGB data ([0..1] for floats or [0..255] for integers).\n"
     ]
    },
    {
     "name": "stdout",
     "output_type": "stream",
     "text": [
      "Saved ../experiments/results/exp_131_s1/splits_4/heatmaps/F034a09_heatmap.png\n"
     ]
    },
    {
     "name": "stderr",
     "output_type": "stream",
     "text": [
      "Clipping input data to the valid range for imshow with RGB data ([0..1] for floats or [0..255] for integers).\n"
     ]
    },
    {
     "name": "stdout",
     "output_type": "stream",
     "text": [
      "Saved ../experiments/results/exp_131_s1/splits_4/heatmaps/F050a01_heatmap.png\n"
     ]
    },
    {
     "name": "stderr",
     "output_type": "stream",
     "text": [
      "Clipping input data to the valid range for imshow with RGB data ([0..1] for floats or [0..255] for integers).\n"
     ]
    }
   ],
   "source": [
    "if use_overlap:\n",
    "    for exp_code in exp_codes:\n",
    "        if run_heatmap_dict:\n",
    "            generate_heatmap_dict(exp_code, use_overlap)\n",
    "        if run_draw_heatmaps:\n",
    "            draw_heatmaps_overlap(exp_code, cmap)\n",
    "else:\n",
    "    for exp_code in exp_codes:\n",
    "        if run_heatmap_dict:\n",
    "            generate_heatmap_dict(exp_code)\n",
    "        if run_draw_heatmaps:\n",
    "            draw_heatmaps(exp_code, cmap)"
   ]
  },
  {
   "cell_type": "code",
   "execution_count": null,
   "id": "8125dc52",
   "metadata": {},
   "outputs": [],
   "source": []
  }
 ],
 "metadata": {
  "kernelspec": {
   "display_name": "clam",
   "language": "python",
   "name": "clam"
  },
  "language_info": {
   "codemirror_mode": {
    "name": "ipython",
    "version": 3
   },
   "file_extension": ".py",
   "mimetype": "text/x-python",
   "name": "python",
   "nbconvert_exporter": "python",
   "pygments_lexer": "ipython3",
   "version": "3.7.7"
  }
 },
 "nbformat": 4,
 "nbformat_minor": 5
}
