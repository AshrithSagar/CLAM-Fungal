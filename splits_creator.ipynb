{
 "cells": [
  {
   "cell_type": "code",
   "execution_count": 12,
   "id": "ae13f7cf",
   "metadata": {},
   "outputs": [],
   "source": [
    "import os\n",
    "import argparse\n",
    "import numpy as np\n",
    "from datasets.dataset_generic import Generic_WSI_Classification_Dataset, Generic_MIL_Dataset, save_splits"
   ]
  },
  {
   "cell_type": "code",
   "execution_count": 13,
   "id": "5632e01c",
   "metadata": {},
   "outputs": [
    {
     "name": "stdout",
     "output_type": "stream",
     "text": [
      "    case_id   slide_id label\n",
      "0    case_0    slide_0     1\n",
      "1    case_0    slide_1     0\n",
      "2    case_0    slide_2     0\n",
      "3    case_0    slide_3     0\n",
      "4    case_0    slide_4     1\n",
      "..      ...        ...   ...\n",
      "135  case_9  slide_135     1\n",
      "136  case_9  slide_136     1\n",
      "137  case_9  slide_137     1\n",
      "138  case_9  slide_138     1\n",
      "139  case_9  slide_139     1\n",
      "\n",
      "[140 rows x 3 columns]\n",
      "label column: label\n",
      "label dictionary: {'nonfungal': 0, 'fungal': 1}\n",
      "number of classes: 2\n",
      "slide-level counts:  \n",
      " 0      3\n",
      "1    137\n",
      "Name: label, dtype: int64\n",
      "Patient-LVL; Number of samples registered in class 0: 0\n",
      "Slide-LVL; Number of samples registered in class 0: 3\n",
      "Patient-LVL; Number of samples registered in class 1: 10\n",
      "Slide-LVL; Number of samples registered in class 1: 137\n"
     ]
    }
   ],
   "source": [
    "label_frac = 1.0\n",
    "seed = 1\n",
    "k = 1\n",
    "val_frac = 0.1\n",
    "test_frac = 0.1\n",
    "\n",
    "# task_1_fungal_vs_nonfungal\n",
    "n_classes=2\n",
    "# fungal_vs_nonfungal.csv\n",
    "# tumor_vs_normal_dummy_clean.csv\n",
    "dataset = Generic_WSI_Classification_Dataset(csv_path = 'dataset_csv/fungal_vs_nonfungal.csv',\n",
    "                        shuffle = False,\n",
    "                        seed = seed,\n",
    "                        print_info = True,\n",
    "#                         label_dict = {'normal_tissue':0, 'tumor_tissue':1},\n",
    "                        label_dict = {'nonfungal':0, 'fungal':1},\n",
    "                        patient_strat=True,\n",
    "                        ignore=[])\n",
    "\n",
    "num_slides_cls = np.array([len(cls_ids) for cls_ids in dataset.patient_cls_ids])\n",
    "val_num = np.round(num_slides_cls * val_frac).astype(int)\n",
    "test_num = np.round(num_slides_cls * test_frac).astype(int)"
   ]
  },
  {
   "cell_type": "code",
   "execution_count": 14,
   "id": "0d8410b4",
   "metadata": {},
   "outputs": [
    {
     "name": "stdout",
     "output_type": "stream",
     "text": [
      "\n",
      "number of training samples: 109\n",
      "number of samples in cls 0: 3\n",
      "number of samples in cls 1: 106\n",
      "\n",
      "number of val samples: 11\n",
      "number of samples in cls 1: 11\n",
      "\n",
      "number of test samples: 20\n",
      "number of samples in cls 1: 20\n",
      "(<datasets.dataset_generic.Generic_Split object at 0x7fbd1cf23ad0>, <datasets.dataset_generic.Generic_Split object at 0x7fbd1508b1d0>, <datasets.dataset_generic.Generic_Split object at 0x7fbd150a3cd0>)\n",
      "    case_id   slide_id label\n",
      "0    case_0    slide_0     1\n",
      "1    case_0    slide_1     0\n",
      "2    case_0    slide_2     0\n",
      "3    case_0    slide_3     0\n",
      "4    case_0    slide_4     1\n",
      "..      ...        ...   ...\n",
      "104  case_9  slide_135     1\n",
      "105  case_9  slide_136     1\n",
      "106  case_9  slide_137     1\n",
      "107  case_9  slide_138     1\n",
      "108  case_9  slide_139     1\n",
      "\n",
      "[109 rows x 3 columns]\n",
      "\n",
      "(<datasets.dataset_generic.Generic_Split object at 0x7fbd1cf23ad0>, <datasets.dataset_generic.Generic_Split object at 0x7fbd1508b1d0>, <datasets.dataset_generic.Generic_Split object at 0x7fbd150a3cd0>)\n",
      "    case_id   slide_id label\n",
      "0    case_0    slide_0     1\n",
      "1    case_0    slide_1     0\n",
      "2    case_0    slide_2     0\n",
      "3    case_0    slide_3     0\n",
      "4    case_0    slide_4     1\n",
      "..      ...        ...   ...\n",
      "104  case_9  slide_135     1\n",
      "105  case_9  slide_136     1\n",
      "106  case_9  slide_137     1\n",
      "107  case_9  slide_138     1\n",
      "108  case_9  slide_139     1\n",
      "\n",
      "[109 rows x 3 columns]\n",
      "\n"
     ]
    }
   ],
   "source": [
    "if __name__ == '__main__':\n",
    "    if label_frac > 0:\n",
    "        label_fracs = [label_frac]\n",
    "    else:\n",
    "        label_fracs = [0.1, 0.25, 0.5, 0.75, 1.0]\n",
    "\n",
    "    for lf in label_fracs:\n",
    "        split_dir = 'splits/fungal_vs_nonfungal' + '_{}'.format(int(lf * 100))\n",
    "#         split_dir = 'splits/tumor_vs_normal_dummy_clean/' + '_{}'.format(int(lf * 100))\n",
    "        os.makedirs(split_dir, exist_ok=True)\n",
    "        dataset.create_splits(k = k, val_num = val_num, test_num = test_num, label_frac=lf)\n",
    "        for i in range(k):\n",
    "            dataset.set_splits()\n",
    "            descriptor_df = dataset.test_split_gen(return_descriptor=True)\n",
    "            splits = dataset.return_splits(from_id=True)\n",
    "            \n",
    "            save_splits(splits, ['train', 'val', 'test'], os.path.join(split_dir, 'splits_{}.csv'.format(i)))\n",
    "            save_splits(splits, ['train', 'val', 'test'], os.path.join(split_dir, 'splits_{}_bool.csv'.format(i)), boolean_style=True)\n",
    "            descriptor_df.to_csv(os.path.join(split_dir, 'splits_{}_descriptor.csv'.format(i)))\n",
    "            "
   ]
  },
  {
   "cell_type": "code",
   "execution_count": null,
   "id": "05b17c1c",
   "metadata": {},
   "outputs": [],
   "source": []
  }
 ],
 "metadata": {
  "kernelspec": {
   "display_name": "clam",
   "language": "python",
   "name": "clam"
  },
  "language_info": {
   "codemirror_mode": {
    "name": "ipython",
    "version": 3
   },
   "file_extension": ".py",
   "mimetype": "text/x-python",
   "name": "python",
   "nbconvert_exporter": "python",
   "pygments_lexer": "ipython3",
   "version": "3.7.7"
  }
 },
 "nbformat": 4,
 "nbformat_minor": 5
}
