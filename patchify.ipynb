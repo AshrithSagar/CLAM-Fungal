{
 "cells": [
  {
   "cell_type": "code",
   "execution_count": 6,
   "id": "e37f827f",
   "metadata": {},
   "outputs": [],
   "source": [
    "import os\n",
    "from PIL import Image\n",
    "from itertools import product\n",
    "\n",
    "from sklearn.datasets import load_sample_image\n",
    "from sklearn.feature_extraction import image"
   ]
  },
  {
   "cell_type": "code",
   "execution_count": 7,
   "id": "49233f22",
   "metadata": {},
   "outputs": [],
   "source": [
    "# Path to folder containing the image files\n",
    "# input_dir = \"/home/keerthanaprasad/RajithaKV/ROI_Detection/F_a/F_a_original/\"\n",
    "input_dir = \"/home/keerthanaprasad/RajithaKV/ROI_Detection/NF_a/\"\n",
    "\n",
    "# Path to folder for storing the patches\n",
    "output_dir = \"/home/keerthanaprasad/RajithaKV/ROI_Detection/CLAM_model/CLAM_1/image_sets/patches/\"\n",
    "\n",
    "patch_size = 256\n",
    "\n",
    "if not os.path.isdir(output_dir):\n",
    "    os.mkdir(output_dir)"
   ]
  },
  {
   "cell_type": "code",
   "execution_count": 8,
   "id": "18eff2fb",
   "metadata": {},
   "outputs": [],
   "source": [
    "def tile(filename, dir_in, dir_out, d):\n",
    "    name, ext = os.path.splitext(filename)\n",
    "    img = Image.open(os.path.join(dir_in, filename))\n",
    "    w, h = img.size\n",
    "    \n",
    "    grid = product(range(0, h-h%d, d), range(0, w-w%d, d))\n",
    "    for i, j in grid:\n",
    "        box = (j, i, j+d, i+d)\n",
    "        i /= 256\n",
    "        j /= 256\n",
    "        out = os.path.join(dir_out, f'{name}_{int(i)}_{int(j)}{ext}')\n",
    "        img.crop(box).save(out)\n",
    "\n",
    "\n",
    "def tile_scikit(filename, dir_in, dir_out, d):\n",
    "    name, ext = os.path.splitext(filename)\n",
    "    img = load_sample_image(os.path.join(dir_in, filename))\n",
    "    print('Image shape: {}'.format(img.shape))\n",
    "\n",
    "    patches = image.extract_patches_2d(img, (256, 256))\n",
    "    print('Patches shape: {}'.format(patches.shape))\n",
    "\n",
    "    print(patches)"
   ]
  },
  {
   "cell_type": "code",
   "execution_count": 9,
   "id": "2a951d3c",
   "metadata": {},
   "outputs": [],
   "source": [
    "for filename in os.listdir(input_dir):\n",
    "    name, ext = os.path.splitext(filename)\n",
    "    output_patches_dir = os.path.join(output_dir, name)\n",
    "\n",
    "    if not os.path.isdir(output_patches_dir):\n",
    "        os.mkdir(output_patches_dir)\n",
    "\n",
    "    tile(filename, input_dir, output_patches_dir, patch_size)"
   ]
  },
  {
   "cell_type": "code",
   "execution_count": 5,
   "id": "b25e8f52",
   "metadata": {},
   "outputs": [
    {
     "name": "stdout",
     "output_type": "stream",
     "text": [
      "F005a02  F017a05  F033a27\t\t\t       N004a050  N004a115\r\n",
      "F006a01  F017a06  F033a28\t\t\t       N004a051  N004a116\r\n",
      "F006a02  F017a07  F033a29\t\t\t       N004a052  N004a117\r\n",
      "F006a03  F017a08  F034a05\t\t\t       N004a053  N004a118\r\n",
      "F006a04  F017a09  F034a06\t\t\t       N004a054  N004a119\r\n",
      "F006a05  F017a10  F034a07\t\t\t       N004a055  N004a120\r\n",
      "F006a06  F018a01  F034a08\t\t\t       N004a056  N004a121\r\n",
      "F006a07  F018a02  F034a09\t\t\t       N004a057  N004a122\r\n",
      "F006a08  F018a03  F034a10\t\t\t       N004a058  N004a123\r\n",
      "F006a09  F018a04  F034a11\t\t\t       N004a059  N004a124\r\n",
      "F006a10  F018a05  fungal_vs_nonfungal_resnet_features  N004a060  N004a125\r\n",
      "F007a01  F018a06  N001a001\t\t\t       N004a061  N004a126\r\n",
      "F007a02  F018a07  N001a002\t\t\t       N004a062  N004a127\r\n",
      "F007a03  F018a08  N003a001\t\t\t       N004a063  N004a128\r\n",
      "F007a04  F018a09  N003a002\t\t\t       N004a064  N004a129\r\n",
      "F007a05  F018a10  N003a003\t\t\t       N004a065  N004a130\r\n",
      "F007a06  F018a11  N004a001\t\t\t       N004a066  N004a131\r\n",
      "F007a07  F018a12  N004a002\t\t\t       N004a067  N004a132\r\n",
      "F007a08  F018a13  N004a003\t\t\t       N004a068  N004a133\r\n",
      "F007a09  F021a01  N004a004\t\t\t       N004a069  N004a134\r\n",
      "F007a10  F021a02  N004a005\t\t\t       N004a070  N004a135\r\n",
      "F007a11  F021a03  N004a006\t\t\t       N004a071  N004a136\r\n",
      "F007a12  F021a04  N004a007\t\t\t       N004a072  N004a137\r\n",
      "F007a13  F021a05  N004a008\t\t\t       N004a073  N005a001\r\n",
      "F007a15  F030a01  N004a009\t\t\t       N004a074  N005a002\r\n",
      "F007a16  F030a02  N004a010\t\t\t       N004a075  N005a003\r\n",
      "F007a17  F030a03  N004a011\t\t\t       N004a076  N005a004\r\n",
      "F007a18  F030a04  N004a012\t\t\t       N004a077  N005a005\r\n",
      "F007a19  F030a05  N004a013\t\t\t       N004a078  N005a006\r\n",
      "F007a21  F030a06  N004a014\t\t\t       N004a079  N005a007\r\n",
      "F007a22  F030a07  N004a015\t\t\t       N004a080  N005a008\r\n",
      "F009a01  F030a08  N004a016\t\t\t       N004a081  N005a009\r\n",
      "F009a02  F030a09  N004a017\t\t\t       N004a082  N005a010\r\n",
      "F009a03  F030a10  N004a018\t\t\t       N004a083  N005a011\r\n",
      "F009a04  F030a11  N004a019\t\t\t       N004a084  N005a012\r\n",
      "F010a01  F030a12  N004a020\t\t\t       N004a085  N005a013\r\n",
      "F010a02  F030a13  N004a021\t\t\t       N004a086  N005a014\r\n",
      "F010a03  F030a14  N004a022\t\t\t       N004a087  N005a015\r\n",
      "F010a04  F030a15  N004a023\t\t\t       N004a088  N005a016\r\n",
      "F010a05  F030a17  N004a024\t\t\t       N004a089  N005a017\r\n",
      "F011a01  F030a18  N004a025\t\t\t       N004a090  N005a018\r\n",
      "F011a02  F033a01  N004a026\t\t\t       N004a091  N005a019\r\n",
      "F012a01  F033a02  N004a027\t\t\t       N004a092  N005a020\r\n",
      "F012a02  F033a03  N004a028\t\t\t       N004a093  N005a021\r\n",
      "F012a03  F033a04  N004a029\t\t\t       N004a094  N005a022\r\n",
      "F012a04  F033a05  N004a030\t\t\t       N004a095  N005a023\r\n",
      "F012a06  F033a07  N004a031\t\t\t       N004a096  N006a001\r\n",
      "F013a01  F033a09  N004a032\t\t\t       N004a097  N006a002\r\n",
      "F013a02  F033a10  N004a033\t\t\t       N004a098  N006a004\r\n",
      "F013a03  F033a11  N004a034\t\t\t       N004a099  N006a005\r\n",
      "F013a04  F033a12  N004a035\t\t\t       N004a100  N006a006\r\n",
      "F013a05  F033a13  N004a036\t\t\t       N004a101  N006a007\r\n",
      "F013a06  F033a14  N004a037\t\t\t       N004a102  N006a008\r\n",
      "F013a07  F033a15  N004a038\t\t\t       N004a103  N006a009\r\n",
      "F013a08  F033a16  N004a039\t\t\t       N004a104  N006a010\r\n",
      "F013a09  F033a17  N004a040\t\t\t       N004a105  N007a001\r\n",
      "F013a10  F033a18  N004a041\t\t\t       N004a106  N007a002\r\n",
      "F013a11  F033a19  N004a042\t\t\t       N004a107  N007a003\r\n",
      "F013a12  F033a20  N004a043\t\t\t       N004a108  N007a004\r\n",
      "F013a13  F033a21  N004a044\t\t\t       N004a109  N009a001\r\n",
      "F013a15  F033a22  N004a045\t\t\t       N004a110  N009a002\r\n",
      "F015a01  F033a23  N004a046\t\t\t       N004a111  N011a001\r\n",
      "F017a01  F033a24  N004a047\t\t\t       N004a112  N017a001\r\n",
      "F017a02  F033a25  N004a048\t\t\t       N004a113\r\n",
      "F017a04  F033a26  N004a049\t\t\t       N004a114\r\n"
     ]
    }
   ],
   "source": [
    "!ls image_sets/patches/"
   ]
  }
 ],
 "metadata": {
  "kernelspec": {
   "display_name": "clam",
   "language": "python",
   "name": "clam"
  },
  "language_info": {
   "codemirror_mode": {
    "name": "ipython",
    "version": 3
   },
   "file_extension": ".py",
   "mimetype": "text/x-python",
   "name": "python",
   "nbconvert_exporter": "python",
   "pygments_lexer": "ipython3",
   "version": "3.7.7"
  }
 },
 "nbformat": 4,
 "nbformat_minor": 5
}
