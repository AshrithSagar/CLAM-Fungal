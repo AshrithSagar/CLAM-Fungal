{
 "cells": [
  {
   "cell_type": "markdown",
   "id": "8fa40e91",
   "metadata": {},
   "source": [
    "Create the dataset .csv file\n",
    "\n",
    "Warning: The file is overwritten, so please save before proceeding."
   ]
  },
  {
   "cell_type": "code",
   "execution_count": 12,
   "id": "b756dafe",
   "metadata": {},
   "outputs": [],
   "source": [
    "import os"
   ]
  },
  {
   "cell_type": "code",
   "execution_count": 13,
   "id": "16978976",
   "metadata": {},
   "outputs": [],
   "source": [
    "filename = \"dataset_csv/fungal_vs_nonfungal.csv\"\n",
    "patch_dir = \"image_sets/patches/\"\n",
    "feat_dir = \"image_sets/patches/fungal_vs_nonfungal_resnet_features/\""
   ]
  },
  {
   "cell_type": "code",
   "execution_count": 14,
   "id": "005f9d1c",
   "metadata": {},
   "outputs": [],
   "source": [
    "with open(filename, 'w') as file:\n",
    "    file.write('case_id,slide_id,label' + '\\n')\n",
    "    \n",
    "    patch_folders = [os.path.join(patch_dir, folder) for folder in sorted(os.listdir(patch_dir))]\n",
    "\n",
    "    for i, name in enumerate(patch_folders):\n",
    "        if name != feat_dir:\n",
    "            name = name.split(\"/\")[-1]\n",
    "            if name[0] == \"F\":\n",
    "                f_nf = \"fungal\"\n",
    "            else:\n",
    "                f_nf = \"nonfungal\"\n",
    "            line = 'case_' + str(i) + ',' + name + ',' + f_nf\n",
    "            file.write('{}\\n'.format(line))"
   ]
  },
  {
   "cell_type": "code",
   "execution_count": null,
   "id": "1e59b56d",
   "metadata": {},
   "outputs": [],
   "source": []
  }
 ],
 "metadata": {
  "kernelspec": {
   "display_name": "clam",
   "language": "python",
   "name": "clam"
  },
  "language_info": {
   "codemirror_mode": {
    "name": "ipython",
    "version": 3
   },
   "file_extension": ".py",
   "mimetype": "text/x-python",
   "name": "python",
   "nbconvert_exporter": "python",
   "pygments_lexer": "ipython3",
   "version": "3.7.7"
  }
 },
 "nbformat": 4,
 "nbformat_minor": 5
}
