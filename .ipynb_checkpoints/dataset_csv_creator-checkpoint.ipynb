{
 "cells": [
  {
   "cell_type": "markdown",
   "id": "8fa40e91",
   "metadata": {},
   "source": [
    "Create the dataset .csv file\n",
    "\n",
    "Warning: The file is overwritten, so please save before proceeding."
   ]
  },
  {
   "cell_type": "code",
   "execution_count": 19,
   "id": "761d49e5",
   "metadata": {},
   "outputs": [],
   "source": [
    "import os"
   ]
  },
  {
   "cell_type": "code",
   "execution_count": 20,
   "id": "8d2aee9d",
   "metadata": {},
   "outputs": [],
   "source": [
    "filename = \"dataset_csv/fungal_vs_nonfungal.csv\"\n",
    "patch_dir = \"image_sets/patches/\""
   ]
  },
  {
   "cell_type": "code",
   "execution_count": 21,
   "id": "005f9d1c",
   "metadata": {},
   "outputs": [
    {
     "name": "stdout",
     "output_type": "stream",
     "text": [
      "['image_sets/patches/F005a02', 'image_sets/patches/F006a01', 'image_sets/patches/F006a02', 'image_sets/patches/F006a03', 'image_sets/patches/F006a04', 'image_sets/patches/F006a05', 'image_sets/patches/F006a06', 'image_sets/patches/F006a07', 'image_sets/patches/F006a08', 'image_sets/patches/F006a09', 'image_sets/patches/F006a10', 'image_sets/patches/F007a01', 'image_sets/patches/F007a02', 'image_sets/patches/F007a03', 'image_sets/patches/F007a04', 'image_sets/patches/F007a05', 'image_sets/patches/F007a06', 'image_sets/patches/F007a07', 'image_sets/patches/F007a08', 'image_sets/patches/F007a09', 'image_sets/patches/F007a10', 'image_sets/patches/F007a11', 'image_sets/patches/F007a12', 'image_sets/patches/F007a13', 'image_sets/patches/F007a15', 'image_sets/patches/F007a16', 'image_sets/patches/F007a17', 'image_sets/patches/F007a18', 'image_sets/patches/F007a19', 'image_sets/patches/F007a21', 'image_sets/patches/F007a22', 'image_sets/patches/F009a01', 'image_sets/patches/F009a02', 'image_sets/patches/F009a03', 'image_sets/patches/F009a04', 'image_sets/patches/F010a01', 'image_sets/patches/F010a02', 'image_sets/patches/F010a03', 'image_sets/patches/F010a04', 'image_sets/patches/F010a05', 'image_sets/patches/F011a01', 'image_sets/patches/F011a02', 'image_sets/patches/F012a01', 'image_sets/patches/F012a02', 'image_sets/patches/F012a03', 'image_sets/patches/F012a04', 'image_sets/patches/F012a06', 'image_sets/patches/F013a01', 'image_sets/patches/F013a02', 'image_sets/patches/F013a03', 'image_sets/patches/F013a04', 'image_sets/patches/F013a05', 'image_sets/patches/F013a06', 'image_sets/patches/F013a07', 'image_sets/patches/F013a08', 'image_sets/patches/F013a09', 'image_sets/patches/F013a10', 'image_sets/patches/F013a11', 'image_sets/patches/F013a12', 'image_sets/patches/F013a13', 'image_sets/patches/F013a15', 'image_sets/patches/F015a01', 'image_sets/patches/F017a01', 'image_sets/patches/F017a02', 'image_sets/patches/F017a04', 'image_sets/patches/F017a05', 'image_sets/patches/F017a06', 'image_sets/patches/F017a07', 'image_sets/patches/F017a08', 'image_sets/patches/F017a09', 'image_sets/patches/F017a10', 'image_sets/patches/F018a01', 'image_sets/patches/F018a02', 'image_sets/patches/F018a03', 'image_sets/patches/F018a04', 'image_sets/patches/F018a05', 'image_sets/patches/F018a06', 'image_sets/patches/F018a07', 'image_sets/patches/F018a08', 'image_sets/patches/F018a09', 'image_sets/patches/F018a10', 'image_sets/patches/F018a11', 'image_sets/patches/F018a12', 'image_sets/patches/F018a13', 'image_sets/patches/F021a01', 'image_sets/patches/F021a02', 'image_sets/patches/F021a03', 'image_sets/patches/F021a04', 'image_sets/patches/F021a05', 'image_sets/patches/F030a01', 'image_sets/patches/F030a02', 'image_sets/patches/F030a03', 'image_sets/patches/F030a04', 'image_sets/patches/F030a05', 'image_sets/patches/F030a06', 'image_sets/patches/F030a07', 'image_sets/patches/F030a08', 'image_sets/patches/F030a09', 'image_sets/patches/F030a10', 'image_sets/patches/F030a11', 'image_sets/patches/F030a12', 'image_sets/patches/F030a13', 'image_sets/patches/F030a14', 'image_sets/patches/F030a15', 'image_sets/patches/F030a17', 'image_sets/patches/F030a18', 'image_sets/patches/F033a01', 'image_sets/patches/F033a02', 'image_sets/patches/F033a03', 'image_sets/patches/F033a04', 'image_sets/patches/F033a05', 'image_sets/patches/F033a07', 'image_sets/patches/F033a09', 'image_sets/patches/F033a10', 'image_sets/patches/F033a11', 'image_sets/patches/F033a12', 'image_sets/patches/F033a13', 'image_sets/patches/F033a14', 'image_sets/patches/F033a15', 'image_sets/patches/F033a16', 'image_sets/patches/F033a17', 'image_sets/patches/F033a18', 'image_sets/patches/F033a19', 'image_sets/patches/F033a20', 'image_sets/patches/F033a21', 'image_sets/patches/F033a22', 'image_sets/patches/F033a23', 'image_sets/patches/F033a24', 'image_sets/patches/F033a25', 'image_sets/patches/F033a26', 'image_sets/patches/F033a27', 'image_sets/patches/F033a28', 'image_sets/patches/F033a29', 'image_sets/patches/F034a05', 'image_sets/patches/F034a06', 'image_sets/patches/F034a07', 'image_sets/patches/F034a08', 'image_sets/patches/F034a09', 'image_sets/patches/F034a10', 'image_sets/patches/F034a11', 'image_sets/patches/fungal_vs_nonfungal_resnet_features']\n"
     ]
    }
   ],
   "source": [
    "with open(filename, 'w') as file:\n",
    "    file.write('case_id,slide_id,label' + '\\n')\n",
    "    \n",
    "    patch_folders = [os.path.join(patch_dir, folder) for folder in sorted(os.listdir(patch_dir))]\n",
    "    print(patch_folders)\n",
    "\n",
    "    for i, name in enumerate(patch_folders):\n",
    "        name = name.split(\"/\")[-1]\n",
    "        line = 'case_' + str(i) + ',' + name + ',' + 'fungal'\n",
    "        file.write('{}\\n'.format(line))"
   ]
  }
 ],
 "metadata": {
  "kernelspec": {
   "display_name": "clam",
   "language": "python",
   "name": "clam"
  },
  "language_info": {
   "codemirror_mode": {
    "name": "ipython",
    "version": 3
   },
   "file_extension": ".py",
   "mimetype": "text/x-python",
   "name": "python",
   "nbconvert_exporter": "python",
   "pygments_lexer": "ipython3",
   "version": "3.7.7"
  }
 },
 "nbformat": 4,
 "nbformat_minor": 5
}
