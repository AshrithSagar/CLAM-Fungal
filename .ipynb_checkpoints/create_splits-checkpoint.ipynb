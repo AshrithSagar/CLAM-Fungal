{
 "cells": [
  {
   "cell_type": "markdown",
   "id": "5058f356",
   "metadata": {},
   "source": [
    "Custom splits_creator which splits based on a *random permutation*\n",
    "\n",
    "[Edit: Not using]"
   ]
  },
  {
   "cell_type": "code",
   "execution_count": 428,
   "id": "f9fa11bd",
   "metadata": {},
   "outputs": [],
   "source": [
    "import math\n",
    "import os\n",
    "from random import Random"
   ]
  },
  {
   "cell_type": "code",
   "execution_count": 429,
   "id": "3ae32708",
   "metadata": {},
   "outputs": [],
   "source": [
    "seed = 10\n",
    "patch_dir = \"image_sets/patches/\"\n",
    "dest_dir = \"image_sets/splits/\"\n",
    "    \n",
    "for folder in [dest_dir, dest_dir+\"train\", dest_dir+\"test\", dest_dir+\"val\"]:\n",
    "    if not os.path.exists(folder):\n",
    "        os.makedirs(folder)\n",
    "\n",
    "# [train, test, val]\n",
    "split_ratios = [0.76, 0.12, 0.12]"
   ]
  },
  {
   "cell_type": "code",
   "execution_count": 430,
   "id": "f7109a5a",
   "metadata": {},
   "outputs": [
    {
     "name": "stdout",
     "output_type": "stream",
     "text": [
      "140 107 17 16\n"
     ]
    }
   ],
   "source": [
    "patches_list = sorted(os.listdir(patch_dir))\n",
    "# print(patches_list)\n",
    "Random(seed).shuffle(patches_list)\n",
    "# print(patches_list)\n",
    "\n",
    "patches_list_length = len(patches_list)\n",
    "train_length = math.ceil(split_ratios[0] * patches_list_length)\n",
    "test_length = math.ceil(split_ratios[1] * patches_list_length)\n",
    "val_length = patches_list_length - train_length - test_length\n",
    "print(patches_list_length, train_length, test_length, val_length)\n",
    "\n",
    "train = patches_list[:train_length]\n",
    "test = patches_list[train_length:train_length + test_length]\n",
    "val = patches_list[train_length + test_length:]\n",
    "# print(len(train), len(test), len(val))"
   ]
  },
  {
   "cell_type": "code",
   "execution_count": 433,
   "id": "d2129157",
   "metadata": {},
   "outputs": [
    {
     "data": {
      "text/plain": [
       "['F007a13',\n",
       " 'F030a14',\n",
       " 'F010a01',\n",
       " 'F033a07',\n",
       " 'F033a13',\n",
       " 'F034a08',\n",
       " 'F007a11',\n",
       " 'F009a02',\n",
       " 'F007a16',\n",
       " 'F021a05',\n",
       " 'F007a06',\n",
       " 'F007a03',\n",
       " 'F033a29',\n",
       " 'F013a04',\n",
       " 'F033a10',\n",
       " 'F030a03',\n",
       " 'F013a13',\n",
       " 'F012a03',\n",
       " 'F030a08',\n",
       " 'F007a08',\n",
       " 'F013a08',\n",
       " 'F033a23',\n",
       " 'F018a10',\n",
       " 'F006a02',\n",
       " 'F012a01',\n",
       " 'F018a12',\n",
       " 'F017a09',\n",
       " 'F006a01',\n",
       " 'F009a04',\n",
       " 'F030a13',\n",
       " 'F030a06',\n",
       " 'F007a04',\n",
       " 'F018a09',\n",
       " 'F018a06',\n",
       " 'F033a11',\n",
       " 'F018a03',\n",
       " 'F010a03',\n",
       " 'F030a09',\n",
       " 'F030a11',\n",
       " 'F033a09',\n",
       " 'F007a21',\n",
       " 'F033a14',\n",
       " 'F017a01',\n",
       " 'F007a01',\n",
       " 'F033a16',\n",
       " 'F010a05',\n",
       " 'F030a01',\n",
       " 'F030a04',\n",
       " 'F012a02',\n",
       " 'F007a05',\n",
       " 'F033a25',\n",
       " 'F007a17',\n",
       " 'F007a18',\n",
       " 'F033a03',\n",
       " 'F007a02',\n",
       " 'F013a05',\n",
       " 'F017a07',\n",
       " 'F018a05',\n",
       " 'F006a06',\n",
       " 'F018a11',\n",
       " 'F017a05',\n",
       " 'F015a01',\n",
       " 'F006a07',\n",
       " 'F017a06',\n",
       " 'F013a01',\n",
       " 'F013a03',\n",
       " 'F033a24',\n",
       " 'F006a10',\n",
       " 'F006a09',\n",
       " 'F030a02',\n",
       " 'F017a02',\n",
       " 'F018a02',\n",
       " 'F006a04',\n",
       " 'F033a02',\n",
       " 'F034a07',\n",
       " 'F007a19',\n",
       " 'F007a10',\n",
       " 'F017a04',\n",
       " 'F033a28',\n",
       " 'F034a09',\n",
       " 'F033a27',\n",
       " 'F013a15',\n",
       " 'F013a09',\n",
       " 'F013a11',\n",
       " 'F017a10',\n",
       " 'F021a02',\n",
       " 'F011a01',\n",
       " 'F030a05',\n",
       " 'F030a17',\n",
       " 'F017a08',\n",
       " 'F033a01',\n",
       " 'F007a15',\n",
       " 'F030a15',\n",
       " 'F030a12',\n",
       " 'F005a02',\n",
       " 'F018a04',\n",
       " 'F033a21',\n",
       " 'F033a12',\n",
       " 'F018a08',\n",
       " 'F013a10',\n",
       " 'F007a22',\n",
       " 'F030a10',\n",
       " 'F034a10',\n",
       " 'F034a06',\n",
       " 'F033a19',\n",
       " 'F021a01',\n",
       " 'F010a04']"
      ]
     },
     "execution_count": 433,
     "metadata": {},
     "output_type": "execute_result"
    }
   ],
   "source": []
  },
  {
   "cell_type": "code",
   "execution_count": null,
   "id": "a92cb703",
   "metadata": {},
   "outputs": [],
   "source": []
  }
 ],
 "metadata": {
  "kernelspec": {
   "display_name": "clam",
   "language": "python",
   "name": "clam"
  },
  "language_info": {
   "codemirror_mode": {
    "name": "ipython",
    "version": 3
   },
   "file_extension": ".py",
   "mimetype": "text/x-python",
   "name": "python",
   "nbconvert_exporter": "python",
   "pygments_lexer": "ipython3",
   "version": "3.7.7"
  }
 },
 "nbformat": 4,
 "nbformat_minor": 5
}
