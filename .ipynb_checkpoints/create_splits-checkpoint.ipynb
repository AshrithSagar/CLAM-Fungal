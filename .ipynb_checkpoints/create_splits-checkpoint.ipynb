{
 "cells": [
  {
   "cell_type": "code",
   "execution_count": 428,
   "id": "5b48c3b1",
   "metadata": {},
   "outputs": [],
   "source": [
    "import math\n",
    "import os\n",
    "from random import Random"
   ]
  },
  {
   "cell_type": "code",
   "execution_count": 429,
   "id": "ccf14e30",
   "metadata": {},
   "outputs": [],
   "source": [
    "seed = 10\n",
    "patch_dir = \"image_sets/patches/\"\n",
    "dest_dir = \"image_sets/splits/\"\n",
    "    \n",
    "for folder in [dest_dir, dest_dir+\"train\", dest_dir+\"test\", dest_dir+\"val\"]:\n",
    "    if not os.path.exists(folder):\n",
    "        os.makedirs(folder)\n",
    "\n",
    "# [train, test, val]\n",
    "split_ratios = [0.76, 0.12, 0.12]"
   ]
  },
  {
   "cell_type": "code",
   "execution_count": 430,
   "id": "e9373bb2",
   "metadata": {},
   "outputs": [
    {
     "name": "stdout",
     "output_type": "stream",
     "text": [
      "140 107 17 16\n"
     ]
    }
   ],
   "source": [
    "patches_list = sorted(os.listdir(patch_dir))\n",
    "# print(patches_list)\n",
    "Random(seed).shuffle(patches_list)\n",
    "# print(patches_list)\n",
    "\n",
    "patches_list_length = len(patches_list)\n",
    "train_length = math.ceil(split_ratios[0] * patches_list_length)\n",
    "test_length = math.ceil(split_ratios[1] * patches_list_length)\n",
    "val_length = patches_list_length - train_length - test_length\n",
    "print(patches_list_length, train_length, test_length, val_length)\n",
    "\n",
    "train = patches_list[:train_length]\n",
    "test = patches_list[train_length:train_length + test_length]\n",
    "val = patches_list[train_length + test_length:]\n",
    "# print(len(train), len(test), len(val))"
   ]
  },
  {
   "cell_type": "code",
   "execution_count": 431,
   "id": "6d096f2e",
   "metadata": {},
   "outputs": [
    {
     "name": "stdout",
     "output_type": "stream",
     "text": [
      "cp: target 'F010a04]' is not a directory\r\n"
     ]
    }
   ],
   "source": [
    "!echo $train"
   ]
  },
  {
   "cell_type": "code",
   "execution_count": null,
   "id": "7f5a6f03",
   "metadata": {},
   "outputs": [],
   "source": []
  }
 ],
 "metadata": {
  "kernelspec": {
   "display_name": "clam",
   "language": "python",
   "name": "clam"
  },
  "language_info": {
   "codemirror_mode": {
    "name": "ipython",
    "version": 3
   },
   "file_extension": ".py",
   "mimetype": "text/x-python",
   "name": "python",
   "nbconvert_exporter": "python",
   "pygments_lexer": "ipython3",
   "version": "3.7.7"
  }
 },
 "nbformat": 4,
 "nbformat_minor": 5
}
