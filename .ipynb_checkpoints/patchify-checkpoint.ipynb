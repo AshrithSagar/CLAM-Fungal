{
 "cells": [
  {
   "cell_type": "code",
   "execution_count": 22,
   "id": "e37f827f",
   "metadata": {},
   "outputs": [],
   "source": [
    "import os\n",
    "from PIL import Image\n",
    "from itertools import product\n",
    "\n",
    "\n",
    "from sklearn.datasets import load_sample_image\n",
    "from sklearn.feature_extraction import image"
   ]
  },
  {
   "cell_type": "code",
   "execution_count": 23,
   "id": "18eff2fb",
   "metadata": {},
   "outputs": [],
   "source": [
    "def tile(filename, dir_in, dir_out, d):\n",
    "    name, ext = os.path.splitext(filename)\n",
    "    img = Image.open(os.path.join(dir_in, filename))\n",
    "    w, h = img.size\n",
    "    \n",
    "    grid = product(range(0, h-h%d, d), range(0, w-w%d, d))\n",
    "    for i, j in grid:\n",
    "        box = (j, i, j+d, i+d)\n",
    "        i /= 256\n",
    "        j /= 256\n",
    "        out = os.path.join(dir_out, f'{name}_{int(i)}_{int(j)}{ext}')\n",
    "        img.crop(box).save(out)\n",
    "\n",
    "\n",
    "def tile_scikit(filename, dir_in, dir_out, d):\n",
    "    name, ext = os.path.splitext(filename)\n",
    "    img = load_sample_image(os.path.join(dir_in, filename))\n",
    "    print('Image shape: {}'.format(img.shape))\n",
    "\n",
    "    patches = image.extract_patches_2d(img, (256, 256))\n",
    "    print('Patches shape: {}'.format(patches.shape))\n",
    "\n",
    "    print(patches)"
   ]
  },
  {
   "cell_type": "code",
   "execution_count": 24,
   "id": "fd7cb612",
   "metadata": {},
   "outputs": [],
   "source": [
    "# Path to folder containing the image files\n",
    "input_dir = \"/home/keerthanaprasad/RajithaKV/ROI_Detection/F_a/F_a_original/\"\n",
    "\n",
    "# Path to folder for storing the patches\n",
    "output_dir = \"/home/keerthanaprasad/RajithaKV/ROI_Detection/CLAM_model/CLAM_1/image_sets/patches/\"\n",
    "\n",
    "patch_size = 256\n",
    "\n",
    "if not os.path.isdir(output_dir):\n",
    "    os.mkdir(output_dir)"
   ]
  },
  {
   "cell_type": "code",
   "execution_count": 25,
   "id": "2a951d3c",
   "metadata": {},
   "outputs": [],
   "source": [
    "for filename in os.listdir(input_dir):\n",
    "    name, ext = os.path.splitext(filename)\n",
    "    output_patches_dir = os.path.join(output_dir, name)\n",
    "\n",
    "    if not os.path.isdir(output_patches_dir):\n",
    "        os.mkdir(output_patches_dir)\n",
    "\n",
    "    tile(filename, input_dir, output_patches_dir, patch_size)"
   ]
  },
  {
   "cell_type": "code",
   "execution_count": 26,
   "id": "b25e8f52",
   "metadata": {},
   "outputs": [
    {
     "name": "stdout",
     "output_type": "stream",
     "text": [
      "F005a02  F007a06  F009a02  F013a02  F017a04  F018a10  F030a08  F033a09\tF033a25\r\n",
      "F006a01  F007a07  F009a03  F013a03  F017a05  F018a11  F030a09  F033a10\tF033a26\r\n",
      "F006a02  F007a08  F009a04  F013a04  F017a06  F018a12  F030a10  F033a11\tF033a27\r\n",
      "F006a03  F007a09  F010a01  F013a05  F017a07  F018a13  F030a11  F033a12\tF033a28\r\n",
      "F006a04  F007a10  F010a02  F013a06  F017a08  F021a01  F030a12  F033a13\tF033a29\r\n",
      "F006a05  F007a11  F010a03  F013a07  F017a09  F021a02  F030a13  F033a14\tF034a05\r\n",
      "F006a06  F007a12  F010a04  F013a08  F017a10  F021a03  F030a14  F033a15\tF034a06\r\n",
      "F006a07  F007a13  F010a05  F013a09  F018a01  F021a04  F030a15  F033a16\tF034a07\r\n",
      "F006a08  F007a15  F011a01  F013a10  F018a02  F021a05  F030a17  F033a17\tF034a08\r\n",
      "F006a09  F007a16  F011a02  F013a11  F018a03  F030a01  F030a18  F033a18\tF034a09\r\n",
      "F006a10  F007a17  F012a01  F013a12  F018a04  F030a02  F033a01  F033a19\tF034a10\r\n",
      "F007a01  F007a18  F012a02  F013a13  F018a05  F030a03  F033a02  F033a20\tF034a11\r\n",
      "F007a02  F007a19  F012a03  F013a15  F018a06  F030a04  F033a03  F033a21\r\n",
      "F007a03  F007a21  F012a04  F015a01  F018a07  F030a05  F033a04  F033a22\r\n",
      "F007a04  F007a22  F012a06  F017a01  F018a08  F030a06  F033a05  F033a23\r\n",
      "F007a05  F009a01  F013a01  F017a02  F018a09  F030a07  F033a07  F033a24\r\n"
     ]
    }
   ],
   "source": [
    "!ls image_sets/patches/"
   ]
  }
 ],
 "metadata": {
  "kernelspec": {
   "display_name": "clam",
   "language": "python",
   "name": "clam"
  },
  "language_info": {
   "codemirror_mode": {
    "name": "ipython",
    "version": 3
   },
   "file_extension": ".py",
   "mimetype": "text/x-python",
   "name": "python",
   "nbconvert_exporter": "python",
   "pygments_lexer": "ipython3",
   "version": "3.7.7"
  }
 },
 "nbformat": 4,
 "nbformat_minor": 5
}
