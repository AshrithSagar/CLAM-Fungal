{
 "cells": [
  {
   "cell_type": "code",
   "execution_count": 164,
   "id": "471e65db",
   "metadata": {},
   "outputs": [],
   "source": [
    "from PIL import Image\n",
    "import torch\n",
    "import os\n",
    "import numpy as np\n",
    "import pickle\n",
    "from utils.utils import *\n",
    "from utils.file_utils import save_pkl, load_pkl\n",
    "from models.resnet_custom import resnet50_baseline\n",
    "from models.model_clam import CLAM_MB, CLAM_SB\n",
    "from torch.utils.data import DataLoader\n",
    "from scipy.stats import percentileofscore\n",
    "import matplotlib.pyplot as plt\n",
    "from skimage.color import label2rgb\n",
    "import cv2"
   ]
  },
  {
   "cell_type": "code",
   "execution_count": 165,
   "id": "223def03",
   "metadata": {},
   "outputs": [],
   "source": [
    "drop_out = False\n",
    "n_classes = 2\n",
    "model_type = \"clam_sb\"\n",
    "model_size = 'small'\n",
    "exp_code = \"exp_6\" + \"_s1\"\n",
    "ckpt_path = \"s_0_checkpoint.pt\"\n",
    "results_dir = \"image_sets/results\"\n",
    "\n",
    "data_dir = \"image_sets/original/\"\n",
    "image_ext = \".tif\"\n",
    "patch_dir = \"image_sets/patches/\"\n",
    "feat_dir = \"image_sets/features/\"\n",
    "actual_feat_dir = \"image_sets/patches/fungal_vs_nonfungal_resnet_features/pt_files/\"\n",
    "\n",
    "save_path = os.path.join(results_dir, exp_code, \"heatmaps\")\n",
    "if not os.path.isdir(save_path):\n",
    "    os.mkdir(save_path)"
   ]
  },
  {
   "cell_type": "code",
   "execution_count": 166,
   "id": "4d901cbb",
   "metadata": {},
   "outputs": [],
   "source": [
    "# ---------------------------\n",
    "# Heatmap Image options\n",
    "patch_size = (256, 256) # patch_size (tuple of int)\n",
    "binarize = False\n",
    "overlap = 0\n",
    "blur = 0\n",
    "alpha = 1.0\n",
    "cmap='coolwarm'\n",
    "thresh = -1\n",
    "# ---------------------------"
   ]
  },
  {
   "cell_type": "code",
   "execution_count": 167,
   "id": "77544041",
   "metadata": {},
   "outputs": [],
   "source": [
    "heatmap_dict = load_pkl(os.path.join(results_dir, exp_code, \"heatmap_dict.pkl\"))"
   ]
  },
  {
   "cell_type": "code",
   "execution_count": 168,
   "id": "e3d87b99",
   "metadata": {},
   "outputs": [],
   "source": [
    "image_file = heatmap_dict[0]\n",
    "\n",
    "image_name = image_file['filename']\n",
    "attention_scores = image_file['attention_scores']\n",
    "coords_list = image_file['coords_list']"
   ]
  },
  {
   "cell_type": "code",
   "execution_count": 169,
   "id": "3cf91f9f",
   "metadata": {},
   "outputs": [],
   "source": [
    "if isinstance(cmap, str):\n",
    "    cmap = plt.get_cmap(cmap)\n",
    "\n",
    "img = np.array(Image.open(os.path.join(data_dir, image_name+image_ext)))\n",
    "img = img[0:1024, 0:1536] # No left-overs\n",
    "\n",
    "orig_img = cv2.imread(os.path.join(data_dir, image_name+image_ext))"
   ]
  },
  {
   "cell_type": "code",
   "execution_count": 170,
   "id": "20e555bd",
   "metadata": {},
   "outputs": [
    {
     "name": "stdout",
     "output_type": "stream",
     "text": [
      "[array([[0.9692515]], dtype=float32), array([[0.67974967]], dtype=float32), array([[1.3100058]], dtype=float32), array([[2.115945]], dtype=float32), array([[2.0633273]], dtype=float32), array([[0.3712194]], dtype=float32), array([[2.2165282]], dtype=float32), array([[1.6799694]], dtype=float32), array([[1.261167]], dtype=float32), array([[1.7877005]], dtype=float32), array([[1.2687463]], dtype=float32), array([[2.6665442]], dtype=float32), array([[2.045453]], dtype=float32), array([[1.1738676]], dtype=float32), array([[1.6532478]], dtype=float32), array([[1.4771929]], dtype=float32), array([[2.0641928]], dtype=float32), array([[2.2245715]], dtype=float32), array([[2.155286]], dtype=float32), array([[1.673484]], dtype=float32), array([[1.5258113]], dtype=float32), array([[1.5535276]], dtype=float32), array([[1.2139599]], dtype=float32), array([[0.38763854]], dtype=float32)]\n",
      "37.538387\n",
      "[0.16666666666666669, 0.125, 0.375, 0.8333333333333333, 0.75, 0.04166666666666667, 0.9166666666666667, 0.625, 0.2916666666666667, 0.6666666666666667, 0.33333333333333337, 1.0, 0.7083333333333333, 0.20833333333333331, 0.5416666666666666, 0.41666666666666663, 0.7916666666666667, 0.9583333333333333, 0.875, 0.5833333333333334, 0.45833333333333337, 0.5, 0.25, 0.08333333333333334]\n"
     ]
    }
   ],
   "source": [
    "ref = attention_scores.copy()\n",
    "scores = []\n",
    "for score in attention_scores:\n",
    "    score = percentileofscore(ref, score)\n",
    "    scores.append(score/100)\n",
    "print(attention_scores)\n",
    "print(np.sum(ref))\n",
    "print(scores)"
   ]
  },
  {
   "cell_type": "code",
   "execution_count": 171,
   "id": "57abad23",
   "metadata": {},
   "outputs": [],
   "source": [
    "if binarize:\n",
    "    if thresh < 0:\n",
    "        threshold = 1.0/len(scores)\n",
    "    else:\n",
    "        threshold =  thresh\n",
    "else:\n",
    "    threshold = 0.0\n",
    "# print(threshold)"
   ]
  },
  {
   "cell_type": "code",
   "execution_count": 172,
   "id": "ea58445e",
   "metadata": {},
   "outputs": [],
   "source": [
    "region_size = (1024, 1536)\n",
    "overlay = np.full(np.flip(region_size), 0).astype(float)\n",
    "counter = np.full(np.flip(region_size), 0).astype(np.uint16)      \n",
    "count = 0"
   ]
  },
  {
   "cell_type": "code",
   "execution_count": 173,
   "id": "c97782b7",
   "metadata": {},
   "outputs": [
    {
     "name": "stdout",
     "output_type": "stream",
     "text": [
      "0\n",
      "[[0.16666667 0.16666667 0.16666667 ... 0.875      0.875      0.875     ]\n",
      " [0.16666667 0.16666667 0.16666667 ... 0.875      0.875      0.875     ]\n",
      " [0.16666667 0.16666667 0.16666667 ... 0.875      0.875      0.875     ]\n",
      " ...\n",
      " [0.04166667 0.04166667 0.04166667 ... 0.08333333 0.08333333 0.08333333]\n",
      " [0.04166667 0.04166667 0.04166667 ... 0.08333333 0.08333333 0.08333333]\n",
      " [0.04166667 0.04166667 0.04166667 ... 0.08333333 0.08333333 0.08333333]]\n"
     ]
    }
   ],
   "source": [
    "for index, score in enumerate(scores):\n",
    "    coord = coords_list[index]\n",
    "    coord = [256*x for x in coord]\n",
    "#         print(\"coord\", coord)\n",
    "    if score >= threshold:\n",
    "        if binarize:\n",
    "            score=1.0\n",
    "            count+=1\n",
    "    else:\n",
    "        score=0.0\n",
    "#     print(coord[1], coord[1]+patch_size[1], coord[0], coord[0]+patch_size[0])\n",
    "#     print(\"(\", coord[0], \",\", coord[1], \") to (\" , coord[0]+patch_size[0], \",\", coord[1]+patch_size[1], \")\")\n",
    "    # accumulate attention\n",
    "    overlay[coord[1]:coord[1]+patch_size[1], coord[0]:coord[0]+patch_size[0]] += score\n",
    "    # accumulate counter\n",
    "    counter[coord[1]:coord[1]+patch_size[1], coord[0]:coord[0]+patch_size[0]] += 1\n",
    "print(len(np.where(overlay == 0)[0]))\n",
    "print(overlay)"
   ]
  },
  {
   "cell_type": "code",
   "execution_count": 174,
   "id": "26a76d19",
   "metadata": {},
   "outputs": [],
   "source": [
    "# # fetch attended region and average accumulated attention\n",
    "# zero_mask = counter == 0\n",
    "# # zero_mask is 1 for left-over strips\n",
    "\n",
    "# if binarize:\n",
    "#     overlay[~zero_mask] = np.around(overlay[~zero_mask] / counter[~zero_mask])\n",
    "# else:\n",
    "#     overlay[~zero_mask] = overlay[~zero_mask] / counter[~zero_mask]\n",
    "#     # overlay[~zero_mask] is empty for left-over strips, else not.\n",
    "# del counter "
   ]
  },
  {
   "cell_type": "code",
   "execution_count": 176,
   "id": "3d577f85",
   "metadata": {},
   "outputs": [
    {
     "name": "stdout",
     "output_type": "stream",
     "text": [
      "0.16666666666666669 [0, 0]\n",
      "(256, 256)\n",
      "(256, 256, 3)\n",
      "0.125 [0, 256]\n",
      "(256, 256)\n",
      "(256, 256, 3)\n",
      "0.375 [0, 512]\n",
      "(256, 256)\n",
      "(256, 256, 3)\n",
      "0.8333333333333333 [0, 768]\n",
      "(256, 256)\n",
      "(256, 256, 3)\n",
      "0.75 [0, 1024]\n",
      "(256, 256)\n",
      "(0, 256, 3)\n"
     ]
    },
    {
     "ename": "ValueError",
     "evalue": "`image` and `label` must be the same shape",
     "output_type": "error",
     "traceback": [
      "\u001b[0;31m---------------------------------------------------------------------------\u001b[0m",
      "\u001b[0;31mValueError\u001b[0m                                Traceback (most recent call last)",
      "\u001b[0;32m/tmp/ipykernel_33580/1276492494.py\u001b[0m in \u001b[0;36m<module>\u001b[0;34m\u001b[0m\n\u001b[1;32m     12\u001b[0m     \u001b[0mprint\u001b[0m\u001b[0;34m(\u001b[0m\u001b[0mimg_block\u001b[0m\u001b[0;34m.\u001b[0m\u001b[0mshape\u001b[0m\u001b[0;34m)\u001b[0m\u001b[0;34m\u001b[0m\u001b[0;34m\u001b[0m\u001b[0m\n\u001b[1;32m     13\u001b[0m \u001b[0;34m\u001b[0m\u001b[0m\n\u001b[0;32m---> 14\u001b[0;31m     \u001b[0mimg_1\u001b[0m \u001b[0;34m=\u001b[0m \u001b[0mlabel2rgb\u001b[0m\u001b[0;34m(\u001b[0m\u001b[0mlabel\u001b[0m\u001b[0;34m,\u001b[0m \u001b[0mimg_block\u001b[0m\u001b[0;34m)\u001b[0m\u001b[0;34m\u001b[0m\u001b[0;34m\u001b[0m\u001b[0m\n\u001b[0m\u001b[1;32m     15\u001b[0m \u001b[0;34m\u001b[0m\u001b[0m\n\u001b[1;32m     16\u001b[0m     \u001b[0;31m# rewrite image block\u001b[0m\u001b[0;34m\u001b[0m\u001b[0;34m\u001b[0m\u001b[0;34m\u001b[0m\u001b[0m\n",
      "\u001b[0;32m~/anaconda3/envs/clam/lib/python3.7/site-packages/skimage/color/colorlabel.py\u001b[0m in \u001b[0;36mlabel2rgb\u001b[0;34m(label, image, colors, alpha, bg_label, bg_color, image_alpha, kind)\u001b[0m\n\u001b[1;32m    109\u001b[0m     \u001b[0;32mif\u001b[0m \u001b[0mkind\u001b[0m \u001b[0;34m==\u001b[0m \u001b[0;34m'overlay'\u001b[0m\u001b[0;34m:\u001b[0m\u001b[0;34m\u001b[0m\u001b[0;34m\u001b[0m\u001b[0m\n\u001b[1;32m    110\u001b[0m         return _label2rgb_overlay(label, image, colors, alpha, bg_label,\n\u001b[0;32m--> 111\u001b[0;31m                                   bg_color, image_alpha)\n\u001b[0m\u001b[1;32m    112\u001b[0m     \u001b[0;32melif\u001b[0m \u001b[0mkind\u001b[0m \u001b[0;34m==\u001b[0m \u001b[0;34m'avg'\u001b[0m\u001b[0;34m:\u001b[0m\u001b[0;34m\u001b[0m\u001b[0;34m\u001b[0m\u001b[0m\n\u001b[1;32m    113\u001b[0m         \u001b[0;32mreturn\u001b[0m \u001b[0m_label2rgb_avg\u001b[0m\u001b[0;34m(\u001b[0m\u001b[0mlabel\u001b[0m\u001b[0;34m,\u001b[0m \u001b[0mimage\u001b[0m\u001b[0;34m,\u001b[0m \u001b[0mbg_label\u001b[0m\u001b[0;34m,\u001b[0m \u001b[0mbg_color\u001b[0m\u001b[0;34m)\u001b[0m\u001b[0;34m\u001b[0m\u001b[0;34m\u001b[0m\u001b[0m\n",
      "\u001b[0;32m~/anaconda3/envs/clam/lib/python3.7/site-packages/skimage/color/colorlabel.py\u001b[0m in \u001b[0;36m_label2rgb_overlay\u001b[0;34m(label, image, colors, alpha, bg_label, bg_color, image_alpha)\u001b[0m\n\u001b[1;32m    156\u001b[0m     \u001b[0;32melse\u001b[0m\u001b[0;34m:\u001b[0m\u001b[0;34m\u001b[0m\u001b[0;34m\u001b[0m\u001b[0m\n\u001b[1;32m    157\u001b[0m         \u001b[0;32mif\u001b[0m \u001b[0;32mnot\u001b[0m \u001b[0mimage\u001b[0m\u001b[0;34m.\u001b[0m\u001b[0mshape\u001b[0m\u001b[0;34m[\u001b[0m\u001b[0;34m:\u001b[0m\u001b[0;36m2\u001b[0m\u001b[0;34m]\u001b[0m \u001b[0;34m==\u001b[0m \u001b[0mlabel\u001b[0m\u001b[0;34m.\u001b[0m\u001b[0mshape\u001b[0m\u001b[0;34m:\u001b[0m\u001b[0;34m\u001b[0m\u001b[0;34m\u001b[0m\u001b[0m\n\u001b[0;32m--> 158\u001b[0;31m             \u001b[0;32mraise\u001b[0m \u001b[0mValueError\u001b[0m\u001b[0;34m(\u001b[0m\u001b[0;34m\"`image` and `label` must be the same shape\"\u001b[0m\u001b[0;34m)\u001b[0m\u001b[0;34m\u001b[0m\u001b[0;34m\u001b[0m\u001b[0m\n\u001b[0m\u001b[1;32m    159\u001b[0m \u001b[0;34m\u001b[0m\u001b[0m\n\u001b[1;32m    160\u001b[0m         \u001b[0;32mif\u001b[0m \u001b[0mimage\u001b[0m\u001b[0;34m.\u001b[0m\u001b[0mmin\u001b[0m\u001b[0;34m(\u001b[0m\u001b[0;34m)\u001b[0m \u001b[0;34m<\u001b[0m \u001b[0;36m0\u001b[0m\u001b[0;34m:\u001b[0m\u001b[0;34m\u001b[0m\u001b[0;34m\u001b[0m\u001b[0m\n",
      "\u001b[0;31mValueError\u001b[0m: `image` and `label` must be the same shape"
     ]
    }
   ],
   "source": [
    "for index, score in enumerate(scores):\n",
    "    coord = coords_list[index]\n",
    "    coord = [256*x for x in coord]\n",
    "    print(score, coord)\n",
    "    \n",
    "    label = np.ones([256, 256])\n",
    "    label = label * score\n",
    "    \n",
    "    img_block = img[coord[1]:coord[1]+patch_size[1], coord[0]:coord[0]+patch_size[0]].copy()\n",
    "    \n",
    "    print(label.shape)\n",
    "    print(img_block.shape)\n",
    "    \n",
    "    img_1 = label2rgb(label, img_block)\n",
    "\n",
    "    # rewrite image block\n",
    "    img[coord[1]:coord[1]+patch_size[1], coord[0]:coord[0]+patch_size[0]] = img_1.copy()\n",
    "plt.imshow(img)"
   ]
  },
  {
   "cell_type": "code",
   "execution_count": null,
   "id": "c57b550e",
   "metadata": {},
   "outputs": [],
   "source": [
    "if blur:\n",
    "    img = cv2.GaussianBlur(img,tuple((patch_size * (1-overlap)).astype(int) * 2 +1),0)  \n",
    "\n",
    "if alpha < 1.0:\n",
    "    img = self.block_blending(img, vis_level, top_left, bot_right, alpha=alpha, blank_canvas=blank_canvas, block_size=1024)\n",
    "\n",
    "img = Image.fromarray(img)\n",
    "\n",
    "plt.imshow(img)"
   ]
  },
  {
   "cell_type": "code",
   "execution_count": null,
   "id": "658508a3",
   "metadata": {},
   "outputs": [],
   "source": []
  }
 ],
 "metadata": {
  "kernelspec": {
   "display_name": "clam",
   "language": "python",
   "name": "clam"
  },
  "language_info": {
   "codemirror_mode": {
    "name": "ipython",
    "version": 3
   },
   "file_extension": ".py",
   "mimetype": "text/x-python",
   "name": "python",
   "nbconvert_exporter": "python",
   "pygments_lexer": "ipython3",
   "version": "3.7.7"
  }
 },
 "nbformat": 4,
 "nbformat_minor": 5
}
