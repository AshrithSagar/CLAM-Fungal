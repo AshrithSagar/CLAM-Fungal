{
 "cells": [
  {
   "cell_type": "code",
   "execution_count": 1,
   "id": "1ed93e96",
   "metadata": {},
   "outputs": [],
   "source": [
    "from PIL import Image\n",
    "import torch\n",
    "import os\n",
    "import numpy as np\n",
    "import pickle\n",
    "from utils.utils import *\n",
    "from utils.file_utils import save_pkl, load_pkl\n",
    "from models.resnet_custom import resnet50_baseline\n",
    "from models.model_clam import CLAM_MB, CLAM_SB\n",
    "from torch.utils.data import DataLoader\n",
    "from scipy.stats import percentileofscore\n",
    "import matplotlib.pyplot as plt\n",
    "from skimage.color import label2rgb\n",
    "import cv2 as cv"
   ]
  },
  {
   "cell_type": "code",
   "execution_count": 4,
   "id": "d8792409",
   "metadata": {},
   "outputs": [],
   "source": [
    "cmap='coolwarm'"
   ]
  },
  {
   "cell_type": "code",
   "execution_count": 5,
   "id": "4d7c0484",
   "metadata": {},
   "outputs": [],
   "source": [
    "if isinstance(cmap, str):\n",
    "    cmap = plt.get_cmap(cmap)"
   ]
  },
  {
   "cell_type": "code",
   "execution_count": 10,
   "id": "dcc6587b",
   "metadata": {},
   "outputs": [
    {
     "data": {
      "text/plain": [
       "<matplotlib.image.AxesImage at 0x7efb45bb2350>"
      ]
     },
     "execution_count": 10,
     "metadata": {},
     "output_type": "execute_result"
    },
    {
     "data": {
      "image/png": "[encoded data removed]",
      "text/plain": [
       "<Figure size 640x480 with 1 Axes>"
      ]
     },
     "metadata": {},
     "output_type": "display_data"
    }
   ],
   "source": [
    "raw_block = np.ones([256, 256])\n",
    "color_block = (cmap(raw_block*0.1) * 255)[:,:,:3].astype(np.uint8)\n",
    "plt.imshow(color_block)"
   ]
  }
 ],
 "metadata": {
  "kernelspec": {
   "display_name": "clam",
   "language": "python",
   "name": "clam"
  },
  "language_info": {
   "codemirror_mode": {
    "name": "ipython",
    "version": 3
   },
   "file_extension": ".py",
   "mimetype": "text/x-python",
   "name": "python",
   "nbconvert_exporter": "python",
   "pygments_lexer": "ipython3",
   "version": "3.7.7"
  }
 },
 "nbformat": 4,
 "nbformat_minor": 5
}
